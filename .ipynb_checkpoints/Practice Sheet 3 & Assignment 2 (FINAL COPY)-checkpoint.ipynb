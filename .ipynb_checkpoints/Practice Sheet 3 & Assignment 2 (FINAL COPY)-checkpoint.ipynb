{
 "cells": [
  {
   "cell_type": "code",
   "execution_count": null,
   "id": "d99fcee1",
   "metadata": {},
   "outputs": [],
   "source": [
    "Practice Sheet 3 & Assignment 2 "
   ]
  },
  {
   "cell_type": "code",
   "execution_count": 2,
   "id": "a680cd70",
   "metadata": {},
   "outputs": [],
   "source": [
    "import pandas as pd"
   ]
  },
  {
   "cell_type": "code",
   "execution_count": 3,
   "id": "d14bc487",
   "metadata": {},
   "outputs": [],
   "source": [
    "df=pd.read_csv(\"Results.csv\")"
   ]
  },
  {
   "cell_type": "code",
   "execution_count": 4,
   "id": "25bef621",
   "metadata": {},
   "outputs": [
    {
     "data": {
      "text/html": [
       "<div>\n",
       "<style scoped>\n",
       "    .dataframe tbody tr th:only-of-type {\n",
       "        vertical-align: middle;\n",
       "    }\n",
       "\n",
       "    .dataframe tbody tr th {\n",
       "        vertical-align: top;\n",
       "    }\n",
       "\n",
       "    .dataframe thead th {\n",
       "        text-align: right;\n",
       "    }\n",
       "</style>\n",
       "<table border=\"1\" class=\"dataframe\">\n",
       "  <thead>\n",
       "    <tr style=\"text-align: right;\">\n",
       "      <th></th>\n",
       "      <th>date</th>\n",
       "      <th>home_team</th>\n",
       "      <th>away_team</th>\n",
       "      <th>home_score</th>\n",
       "      <th>away_score</th>\n",
       "      <th>tournament</th>\n",
       "      <th>city</th>\n",
       "      <th>country</th>\n",
       "      <th>neutral</th>\n",
       "    </tr>\n",
       "  </thead>\n",
       "  <tbody>\n",
       "    <tr>\n",
       "      <th>0</th>\n",
       "      <td>1872-11-30</td>\n",
       "      <td>Scotland</td>\n",
       "      <td>England</td>\n",
       "      <td>0</td>\n",
       "      <td>0</td>\n",
       "      <td>Friendly</td>\n",
       "      <td>Glasgow</td>\n",
       "      <td>Scotland</td>\n",
       "      <td>False</td>\n",
       "    </tr>\n",
       "    <tr>\n",
       "      <th>1</th>\n",
       "      <td>1873-03-08</td>\n",
       "      <td>England</td>\n",
       "      <td>Scotland</td>\n",
       "      <td>4</td>\n",
       "      <td>2</td>\n",
       "      <td>Friendly</td>\n",
       "      <td>London</td>\n",
       "      <td>England</td>\n",
       "      <td>False</td>\n",
       "    </tr>\n",
       "    <tr>\n",
       "      <th>2</th>\n",
       "      <td>1874-03-07</td>\n",
       "      <td>Scotland</td>\n",
       "      <td>England</td>\n",
       "      <td>2</td>\n",
       "      <td>1</td>\n",
       "      <td>Friendly</td>\n",
       "      <td>Glasgow</td>\n",
       "      <td>Scotland</td>\n",
       "      <td>False</td>\n",
       "    </tr>\n",
       "    <tr>\n",
       "      <th>3</th>\n",
       "      <td>1875-03-06</td>\n",
       "      <td>England</td>\n",
       "      <td>Scotland</td>\n",
       "      <td>2</td>\n",
       "      <td>2</td>\n",
       "      <td>Friendly</td>\n",
       "      <td>London</td>\n",
       "      <td>England</td>\n",
       "      <td>False</td>\n",
       "    </tr>\n",
       "    <tr>\n",
       "      <th>4</th>\n",
       "      <td>1876-03-04</td>\n",
       "      <td>Scotland</td>\n",
       "      <td>England</td>\n",
       "      <td>3</td>\n",
       "      <td>0</td>\n",
       "      <td>Friendly</td>\n",
       "      <td>Glasgow</td>\n",
       "      <td>Scotland</td>\n",
       "      <td>False</td>\n",
       "    </tr>\n",
       "    <tr>\n",
       "      <th>...</th>\n",
       "      <td>...</td>\n",
       "      <td>...</td>\n",
       "      <td>...</td>\n",
       "      <td>...</td>\n",
       "      <td>...</td>\n",
       "      <td>...</td>\n",
       "      <td>...</td>\n",
       "      <td>...</td>\n",
       "      <td>...</td>\n",
       "    </tr>\n",
       "    <tr>\n",
       "      <th>43183</th>\n",
       "      <td>2/1/2022</td>\n",
       "      <td>Suriname</td>\n",
       "      <td>Guyana</td>\n",
       "      <td>2</td>\n",
       "      <td>1</td>\n",
       "      <td>Friendly</td>\n",
       "      <td>Paramaribo</td>\n",
       "      <td>Suriname</td>\n",
       "      <td>False</td>\n",
       "    </tr>\n",
       "    <tr>\n",
       "      <th>43184</th>\n",
       "      <td>2/2/2022</td>\n",
       "      <td>Burkina Faso</td>\n",
       "      <td>Senegal</td>\n",
       "      <td>1</td>\n",
       "      <td>3</td>\n",
       "      <td>African Cup of Nations</td>\n",
       "      <td>Yaoundé</td>\n",
       "      <td>Cameroon</td>\n",
       "      <td>True</td>\n",
       "    </tr>\n",
       "    <tr>\n",
       "      <th>43185</th>\n",
       "      <td>2/3/2022</td>\n",
       "      <td>Cameroon</td>\n",
       "      <td>Egypt</td>\n",
       "      <td>0</td>\n",
       "      <td>0</td>\n",
       "      <td>African Cup of Nations</td>\n",
       "      <td>Yaoundé</td>\n",
       "      <td>Cameroon</td>\n",
       "      <td>False</td>\n",
       "    </tr>\n",
       "    <tr>\n",
       "      <th>43186</th>\n",
       "      <td>2/5/2022</td>\n",
       "      <td>Cameroon</td>\n",
       "      <td>Burkina Faso</td>\n",
       "      <td>3</td>\n",
       "      <td>3</td>\n",
       "      <td>African Cup of Nations</td>\n",
       "      <td>Yaoundé</td>\n",
       "      <td>Cameroon</td>\n",
       "      <td>False</td>\n",
       "    </tr>\n",
       "    <tr>\n",
       "      <th>43187</th>\n",
       "      <td>2/6/2022</td>\n",
       "      <td>Senegal</td>\n",
       "      <td>Egypt</td>\n",
       "      <td>0</td>\n",
       "      <td>0</td>\n",
       "      <td>African Cup of Nations</td>\n",
       "      <td>Yaoundé</td>\n",
       "      <td>Cameroon</td>\n",
       "      <td>True</td>\n",
       "    </tr>\n",
       "  </tbody>\n",
       "</table>\n",
       "<p>43188 rows × 9 columns</p>\n",
       "</div>"
      ],
      "text/plain": [
       "             date     home_team     away_team  home_score  away_score  \\\n",
       "0      1872-11-30      Scotland       England           0           0   \n",
       "1      1873-03-08       England      Scotland           4           2   \n",
       "2      1874-03-07      Scotland       England           2           1   \n",
       "3      1875-03-06       England      Scotland           2           2   \n",
       "4      1876-03-04      Scotland       England           3           0   \n",
       "...           ...           ...           ...         ...         ...   \n",
       "43183    2/1/2022      Suriname        Guyana           2           1   \n",
       "43184    2/2/2022  Burkina Faso       Senegal           1           3   \n",
       "43185    2/3/2022      Cameroon         Egypt           0           0   \n",
       "43186    2/5/2022      Cameroon  Burkina Faso           3           3   \n",
       "43187    2/6/2022       Senegal         Egypt           0           0   \n",
       "\n",
       "                   tournament        city   country  neutral  \n",
       "0                    Friendly     Glasgow  Scotland    False  \n",
       "1                    Friendly      London   England    False  \n",
       "2                    Friendly     Glasgow  Scotland    False  \n",
       "3                    Friendly      London   England    False  \n",
       "4                    Friendly     Glasgow  Scotland    False  \n",
       "...                       ...         ...       ...      ...  \n",
       "43183                Friendly  Paramaribo  Suriname    False  \n",
       "43184  African Cup of Nations     Yaoundé  Cameroon     True  \n",
       "43185  African Cup of Nations     Yaoundé  Cameroon    False  \n",
       "43186  African Cup of Nations     Yaoundé  Cameroon    False  \n",
       "43187  African Cup of Nations     Yaoundé  Cameroon     True  \n",
       "\n",
       "[43188 rows x 9 columns]"
      ]
     },
     "execution_count": 4,
     "metadata": {},
     "output_type": "execute_result"
    }
   ],
   "source": [
    "df"
   ]
  },
  {
   "cell_type": "code",
   "execution_count": 12,
   "id": "f462241a",
   "metadata": {},
   "outputs": [],
   "source": [
    "x=df['home_score']-df['away_score']\n",
    "conditions = [\n",
    "    (x<0),\n",
    "    (x>0),\n",
    "    (x==0)\n",
    "    ]"
   ]
  },
  {
   "cell_type": "code",
   "execution_count": 13,
   "id": "7ec2d4f5",
   "metadata": {},
   "outputs": [
    {
     "data": {
      "text/plain": [
       "0        0\n",
       "1        2\n",
       "2        1\n",
       "3        0\n",
       "4        3\n",
       "        ..\n",
       "43183    1\n",
       "43184   -2\n",
       "43185    0\n",
       "43186    0\n",
       "43187    0\n",
       "Length: 43188, dtype: int64"
      ]
     },
     "execution_count": 13,
     "metadata": {},
     "output_type": "execute_result"
    }
   ],
   "source": [
    "x"
   ]
  },
  {
   "cell_type": "code",
   "execution_count": 14,
   "id": "5291a3f9",
   "metadata": {},
   "outputs": [],
   "source": [
    "values= ['win','lose','draw']"
   ]
  },
  {
   "cell_type": "code",
   "execution_count": null,
   "id": "9ec9a21c",
   "metadata": {},
   "outputs": [],
   "source": []
  },
  {
   "cell_type": "code",
   "execution_count": null,
   "id": "fcc33346",
   "metadata": {},
   "outputs": [],
   "source": []
  },
  {
   "cell_type": "code",
   "execution_count": null,
   "id": "51c70467",
   "metadata": {},
   "outputs": [],
   "source": []
  },
  {
   "cell_type": "code",
   "execution_count": 7,
   "id": "5f4ee4f4",
   "metadata": {},
   "outputs": [],
   "source": [
    "import numpy as np"
   ]
  },
  {
   "cell_type": "code",
   "execution_count": 8,
   "id": "7c4e29f0",
   "metadata": {},
   "outputs": [],
   "source": [
    "df['result'] = np.select(conditions, values)"
   ]
  },
  {
   "cell_type": "code",
   "execution_count": 9,
   "id": "992f7d5f",
   "metadata": {},
   "outputs": [
    {
     "data": {
      "text/html": [
       "<div>\n",
       "<style scoped>\n",
       "    .dataframe tbody tr th:only-of-type {\n",
       "        vertical-align: middle;\n",
       "    }\n",
       "\n",
       "    .dataframe tbody tr th {\n",
       "        vertical-align: top;\n",
       "    }\n",
       "\n",
       "    .dataframe thead th {\n",
       "        text-align: right;\n",
       "    }\n",
       "</style>\n",
       "<table border=\"1\" class=\"dataframe\">\n",
       "  <thead>\n",
       "    <tr style=\"text-align: right;\">\n",
       "      <th></th>\n",
       "      <th>date</th>\n",
       "      <th>home_team</th>\n",
       "      <th>away_team</th>\n",
       "      <th>home_score</th>\n",
       "      <th>away_score</th>\n",
       "      <th>tournament</th>\n",
       "      <th>city</th>\n",
       "      <th>country</th>\n",
       "      <th>neutral</th>\n",
       "      <th>result</th>\n",
       "    </tr>\n",
       "  </thead>\n",
       "  <tbody>\n",
       "    <tr>\n",
       "      <th>0</th>\n",
       "      <td>1872-11-30</td>\n",
       "      <td>Scotland</td>\n",
       "      <td>England</td>\n",
       "      <td>0</td>\n",
       "      <td>0</td>\n",
       "      <td>Friendly</td>\n",
       "      <td>Glasgow</td>\n",
       "      <td>Scotland</td>\n",
       "      <td>False</td>\n",
       "      <td>draw</td>\n",
       "    </tr>\n",
       "    <tr>\n",
       "      <th>1</th>\n",
       "      <td>1873-03-08</td>\n",
       "      <td>England</td>\n",
       "      <td>Scotland</td>\n",
       "      <td>4</td>\n",
       "      <td>2</td>\n",
       "      <td>Friendly</td>\n",
       "      <td>London</td>\n",
       "      <td>England</td>\n",
       "      <td>False</td>\n",
       "      <td>lose</td>\n",
       "    </tr>\n",
       "    <tr>\n",
       "      <th>2</th>\n",
       "      <td>1874-03-07</td>\n",
       "      <td>Scotland</td>\n",
       "      <td>England</td>\n",
       "      <td>2</td>\n",
       "      <td>1</td>\n",
       "      <td>Friendly</td>\n",
       "      <td>Glasgow</td>\n",
       "      <td>Scotland</td>\n",
       "      <td>False</td>\n",
       "      <td>lose</td>\n",
       "    </tr>\n",
       "  </tbody>\n",
       "</table>\n",
       "</div>"
      ],
      "text/plain": [
       "         date home_team away_team  home_score  away_score tournament     city  \\\n",
       "0  1872-11-30  Scotland   England           0           0   Friendly  Glasgow   \n",
       "1  1873-03-08   England  Scotland           4           2   Friendly   London   \n",
       "2  1874-03-07  Scotland   England           2           1   Friendly  Glasgow   \n",
       "\n",
       "    country  neutral result  \n",
       "0  Scotland    False   draw  \n",
       "1   England    False   lose  \n",
       "2  Scotland    False   lose  "
      ]
     },
     "execution_count": 9,
     "metadata": {},
     "output_type": "execute_result"
    }
   ],
   "source": [
    "df.head(3)"
   ]
  },
  {
   "cell_type": "code",
   "execution_count": 10,
   "id": "815c1213",
   "metadata": {},
   "outputs": [
    {
     "data": {
      "text/plain": [
       "lose    21009\n",
       "win     12224\n",
       "draw     9955\n",
       "Name: result, dtype: int64"
      ]
     },
     "execution_count": 10,
     "metadata": {},
     "output_type": "execute_result"
    }
   ],
   "source": [
    "df['result'].value_counts()"
   ]
  },
  {
   "cell_type": "code",
   "execution_count": 11,
   "id": "e19f1a6c",
   "metadata": {},
   "outputs": [
    {
     "data": {
      "text/plain": [
       "lose    0.486455\n",
       "win     0.283042\n",
       "draw    0.230504\n",
       "Name: result, dtype: float64"
      ]
     },
     "execution_count": 11,
     "metadata": {},
     "output_type": "execute_result"
    }
   ],
   "source": [
    "df['result'].value_counts(normalize=True)"
   ]
  },
  {
   "cell_type": "code",
   "execution_count": null,
   "id": "4b22b96b",
   "metadata": {},
   "outputs": [],
   "source": []
  }
 ],
 "metadata": {
  "kernelspec": {
   "display_name": "Python 3 (ipykernel)",
   "language": "python",
   "name": "python3"
  },
  "language_info": {
   "codemirror_mode": {
    "name": "ipython",
    "version": 3
   },
   "file_extension": ".py",
   "mimetype": "text/x-python",
   "name": "python",
   "nbconvert_exporter": "python",
   "pygments_lexer": "ipython3",
   "version": "3.9.7"
  }
 },
 "nbformat": 4,
 "nbformat_minor": 5
}
