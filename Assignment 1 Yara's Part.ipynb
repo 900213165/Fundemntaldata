{
 "cells": [
  {
   "cell_type": "code",
   "execution_count": 8,
   "id": "d4d6c959",
   "metadata": {},
   "outputs": [],
   "source": [
    "import pandas as pd"
   ]
  },
  {
   "cell_type": "code",
   "execution_count": 20,
   "id": "e4461d45",
   "metadata": {},
   "outputs": [],
   "source": [
    " df=pd.read_csv(\"marketing_data.csv\")"
   ]
  },
  {
   "cell_type": "code",
   "execution_count": 21,
   "id": "8dbc9376",
   "metadata": {},
   "outputs": [
    {
     "data": {
      "text/html": [
       "<div>\n",
       "<style scoped>\n",
       "    .dataframe tbody tr th:only-of-type {\n",
       "        vertical-align: middle;\n",
       "    }\n",
       "\n",
       "    .dataframe tbody tr th {\n",
       "        vertical-align: top;\n",
       "    }\n",
       "\n",
       "    .dataframe thead th {\n",
       "        text-align: right;\n",
       "    }\n",
       "</style>\n",
       "<table border=\"1\" class=\"dataframe\">\n",
       "  <thead>\n",
       "    <tr style=\"text-align: right;\">\n",
       "      <th></th>\n",
       "      <th>ID</th>\n",
       "      <th>Year_Birth</th>\n",
       "      <th>Education</th>\n",
       "      <th>Marital_Status</th>\n",
       "      <th>Income</th>\n",
       "      <th>Kidhome</th>\n",
       "      <th>Teenhome</th>\n",
       "      <th>Dt_Customer</th>\n",
       "      <th>Recency</th>\n",
       "      <th>MntWines</th>\n",
       "      <th>MntFruits</th>\n",
       "      <th>MntMeatProducts</th>\n",
       "      <th>MntFishProducts</th>\n",
       "      <th>MntSweetProducts</th>\n",
       "      <th>MntGoldProds</th>\n",
       "      <th>NumDealsPurchases</th>\n",
       "      <th>NumWebPurchases</th>\n",
       "      <th>NumCatalogPurchases</th>\n",
       "      <th>NumStorePurchases</th>\n",
       "      <th>NumWebVisitsMonth</th>\n",
       "      <th>AcceptedCmp3</th>\n",
       "      <th>AcceptedCmp4</th>\n",
       "      <th>AcceptedCmp5</th>\n",
       "      <th>AcceptedCmp1</th>\n",
       "      <th>AcceptedCmp2</th>\n",
       "      <th>Response</th>\n",
       "      <th>Complain</th>\n",
       "      <th>Country</th>\n",
       "    </tr>\n",
       "  </thead>\n",
       "  <tbody>\n",
       "    <tr>\n",
       "      <th>0</th>\n",
       "      <td>1826</td>\n",
       "      <td>1970</td>\n",
       "      <td>Graduation</td>\n",
       "      <td>Divorced</td>\n",
       "      <td>$84,835.00</td>\n",
       "      <td>0</td>\n",
       "      <td>0</td>\n",
       "      <td>6/16/2014</td>\n",
       "      <td>0</td>\n",
       "      <td>189</td>\n",
       "      <td>104</td>\n",
       "      <td>379</td>\n",
       "      <td>111</td>\n",
       "      <td>189</td>\n",
       "      <td>218</td>\n",
       "      <td>1</td>\n",
       "      <td>4</td>\n",
       "      <td>4</td>\n",
       "      <td>6</td>\n",
       "      <td>1</td>\n",
       "      <td>0</td>\n",
       "      <td>0</td>\n",
       "      <td>0</td>\n",
       "      <td>0</td>\n",
       "      <td>0</td>\n",
       "      <td>1</td>\n",
       "      <td>0</td>\n",
       "      <td>SP</td>\n",
       "    </tr>\n",
       "    <tr>\n",
       "      <th>1</th>\n",
       "      <td>1</td>\n",
       "      <td>1961</td>\n",
       "      <td>Graduation</td>\n",
       "      <td>Single</td>\n",
       "      <td>$57,091.00</td>\n",
       "      <td>0</td>\n",
       "      <td>0</td>\n",
       "      <td>6/15/2014</td>\n",
       "      <td>0</td>\n",
       "      <td>464</td>\n",
       "      <td>5</td>\n",
       "      <td>64</td>\n",
       "      <td>7</td>\n",
       "      <td>0</td>\n",
       "      <td>37</td>\n",
       "      <td>1</td>\n",
       "      <td>7</td>\n",
       "      <td>3</td>\n",
       "      <td>7</td>\n",
       "      <td>5</td>\n",
       "      <td>0</td>\n",
       "      <td>0</td>\n",
       "      <td>0</td>\n",
       "      <td>0</td>\n",
       "      <td>1</td>\n",
       "      <td>1</td>\n",
       "      <td>0</td>\n",
       "      <td>CA</td>\n",
       "    </tr>\n",
       "    <tr>\n",
       "      <th>2</th>\n",
       "      <td>10476</td>\n",
       "      <td>1958</td>\n",
       "      <td>Graduation</td>\n",
       "      <td>Married</td>\n",
       "      <td>$67,267.00</td>\n",
       "      <td>0</td>\n",
       "      <td>1</td>\n",
       "      <td>5/13/2014</td>\n",
       "      <td>0</td>\n",
       "      <td>134</td>\n",
       "      <td>11</td>\n",
       "      <td>59</td>\n",
       "      <td>15</td>\n",
       "      <td>2</td>\n",
       "      <td>30</td>\n",
       "      <td>1</td>\n",
       "      <td>3</td>\n",
       "      <td>2</td>\n",
       "      <td>5</td>\n",
       "      <td>2</td>\n",
       "      <td>0</td>\n",
       "      <td>0</td>\n",
       "      <td>0</td>\n",
       "      <td>0</td>\n",
       "      <td>0</td>\n",
       "      <td>0</td>\n",
       "      <td>0</td>\n",
       "      <td>US</td>\n",
       "    </tr>\n",
       "  </tbody>\n",
       "</table>\n",
       "</div>"
      ],
      "text/plain": [
       "      ID  Year_Birth   Education Marital_Status      Income   Kidhome  \\\n",
       "0   1826        1970  Graduation       Divorced  $84,835.00         0   \n",
       "1      1        1961  Graduation         Single  $57,091.00         0   \n",
       "2  10476        1958  Graduation        Married  $67,267.00         0   \n",
       "\n",
       "   Teenhome Dt_Customer  Recency  MntWines  MntFruits  MntMeatProducts  \\\n",
       "0         0   6/16/2014        0       189        104              379   \n",
       "1         0   6/15/2014        0       464          5               64   \n",
       "2         1   5/13/2014        0       134         11               59   \n",
       "\n",
       "   MntFishProducts  MntSweetProducts  MntGoldProds  NumDealsPurchases  \\\n",
       "0              111               189           218                  1   \n",
       "1                7                 0            37                  1   \n",
       "2               15                 2            30                  1   \n",
       "\n",
       "   NumWebPurchases  NumCatalogPurchases  NumStorePurchases  NumWebVisitsMonth  \\\n",
       "0                4                    4                  6                  1   \n",
       "1                7                    3                  7                  5   \n",
       "2                3                    2                  5                  2   \n",
       "\n",
       "   AcceptedCmp3  AcceptedCmp4  AcceptedCmp5  AcceptedCmp1  AcceptedCmp2  \\\n",
       "0             0             0             0             0             0   \n",
       "1             0             0             0             0             1   \n",
       "2             0             0             0             0             0   \n",
       "\n",
       "   Response  Complain Country  \n",
       "0         1         0      SP  \n",
       "1         1         0      CA  \n",
       "2         0         0      US  "
      ]
     },
     "execution_count": 21,
     "metadata": {},
     "output_type": "execute_result"
    }
   ],
   "source": [
    "df.head(3)"
   ]
  },
  {
   "cell_type": "code",
   "execution_count": 22,
   "id": "ffb18caa",
   "metadata": {
    "scrolled": true
   },
   "outputs": [
    {
     "name": "stdout",
     "output_type": "stream",
     "text": [
      "continuous variables\n"
     ]
    }
   ],
   "source": [
    "print(\"continuous variables\")"
   ]
  },
  {
   "cell_type": "code",
   "execution_count": 89,
   "id": "ef46d834",
   "metadata": {},
   "outputs": [
    {
     "data": {
      "text/plain": [
       "303.9357142857143"
      ]
     },
     "execution_count": 89,
     "metadata": {},
     "output_type": "execute_result"
    }
   ],
   "source": [
    "df['MntWines'].mean()"
   ]
  },
  {
   "cell_type": "code",
   "execution_count": 36,
   "id": "31ad1f5c",
   "metadata": {},
   "outputs": [
    {
     "data": {
      "text/plain": [
       "173.5"
      ]
     },
     "execution_count": 36,
     "metadata": {},
     "output_type": "execute_result"
    }
   ],
   "source": [
    "df['MntWines'].median()"
   ]
  },
  {
   "cell_type": "code",
   "execution_count": 37,
   "id": "4fb08b58",
   "metadata": {},
   "outputs": [
    {
     "data": {
      "text/plain": [
       "113297.80470873471"
      ]
     },
     "execution_count": 37,
     "metadata": {},
     "output_type": "execute_result"
    }
   ],
   "source": [
    "df['MntWines'].var()"
   ]
  },
  {
   "cell_type": "code",
   "execution_count": 38,
   "id": "135c1007",
   "metadata": {},
   "outputs": [
    {
     "data": {
      "text/plain": [
       "336.5973926053717"
      ]
     },
     "execution_count": 38,
     "metadata": {},
     "output_type": "execute_result"
    }
   ],
   "source": [
    "df['MntWines'].std()"
   ]
  },
  {
   "cell_type": "code",
   "execution_count": 39,
   "id": "9bcbb1c8",
   "metadata": {},
   "outputs": [
    {
     "data": {
      "text/plain": [
       "173.5"
      ]
     },
     "execution_count": 39,
     "metadata": {},
     "output_type": "execute_result"
    }
   ],
   "source": [
    "df['MntWines'].quantile(.5)"
   ]
  },
  {
   "cell_type": "code",
   "execution_count": 40,
   "id": "c8a52f8c",
   "metadata": {},
   "outputs": [
    {
     "data": {
      "text/plain": [
       "23.75"
      ]
     },
     "execution_count": 40,
     "metadata": {},
     "output_type": "execute_result"
    }
   ],
   "source": [
    "df['MntWines'].quantile(.25)"
   ]
  },
  {
   "cell_type": "code",
   "execution_count": 41,
   "id": "8d6a2776",
   "metadata": {},
   "outputs": [
    {
     "data": {
      "text/plain": [
       "504.25"
      ]
     },
     "execution_count": 41,
     "metadata": {},
     "output_type": "execute_result"
    }
   ],
   "source": [
    "df['MntWines'].quantile(.75)"
   ]
  },
  {
   "cell_type": "code",
   "execution_count": 42,
   "id": "0e2cce7e",
   "metadata": {},
   "outputs": [
    {
     "data": {
      "text/plain": [
       "6.0"
      ]
     },
     "execution_count": 42,
     "metadata": {},
     "output_type": "execute_result"
    }
   ],
   "source": [
    "df['MntWines'].quantile(.1)"
   ]
  },
  {
   "cell_type": "code",
   "execution_count": 43,
   "id": "b908c6dd",
   "metadata": {},
   "outputs": [
    {
     "data": {
      "text/plain": [
       "count    2240.000000\n",
       "mean      303.935714\n",
       "std       336.597393\n",
       "min         0.000000\n",
       "25%        23.750000\n",
       "50%       173.500000\n",
       "75%       504.250000\n",
       "max      1493.000000\n",
       "Name: MntWines, dtype: float64"
      ]
     },
     "execution_count": 43,
     "metadata": {},
     "output_type": "execute_result"
    }
   ],
   "source": [
    "df['MntWines'].describe()"
   ]
  },
  {
   "cell_type": "code",
   "execution_count": 44,
   "id": "30cb93cf",
   "metadata": {},
   "outputs": [
    {
     "data": {
      "text/plain": [
       "26.302232142857143"
      ]
     },
     "execution_count": 44,
     "metadata": {},
     "output_type": "execute_result"
    }
   ],
   "source": [
    "df['MntFruits'].mean()"
   ]
  },
  {
   "cell_type": "code",
   "execution_count": 45,
   "id": "8948d629",
   "metadata": {},
   "outputs": [
    {
     "data": {
      "text/plain": [
       "8.0"
      ]
     },
     "execution_count": 45,
     "metadata": {},
     "output_type": "execute_result"
    }
   ],
   "source": [
    "df['MntFruits'].median()"
   ]
  },
  {
   "cell_type": "code",
   "execution_count": 46,
   "id": "2efa2d32",
   "metadata": {},
   "outputs": [
    {
     "data": {
      "text/plain": [
       "1581.92603342533"
      ]
     },
     "execution_count": 46,
     "metadata": {},
     "output_type": "execute_result"
    }
   ],
   "source": [
    "df['MntFruits'].var()"
   ]
  },
  {
   "cell_type": "code",
   "execution_count": 47,
   "id": "f7b40dc6",
   "metadata": {},
   "outputs": [
    {
     "data": {
      "text/plain": [
       "39.77343376457871"
      ]
     },
     "execution_count": 47,
     "metadata": {},
     "output_type": "execute_result"
    }
   ],
   "source": [
    "df['MntFruits'].std()"
   ]
  },
  {
   "cell_type": "code",
   "execution_count": 48,
   "id": "343a8ed7",
   "metadata": {},
   "outputs": [
    {
     "data": {
      "text/plain": [
       "0.0"
      ]
     },
     "execution_count": 48,
     "metadata": {},
     "output_type": "execute_result"
    }
   ],
   "source": [
    "df['MntFruits'].quantile(.1)"
   ]
  },
  {
   "cell_type": "code",
   "execution_count": 49,
   "id": "e8d22635",
   "metadata": {},
   "outputs": [
    {
     "data": {
      "text/plain": [
       "1.0"
      ]
     },
     "execution_count": 49,
     "metadata": {},
     "output_type": "execute_result"
    }
   ],
   "source": [
    "df['MntFruits'].quantile(.25)"
   ]
  },
  {
   "cell_type": "code",
   "execution_count": 50,
   "id": "47c206ac",
   "metadata": {},
   "outputs": [
    {
     "data": {
      "text/plain": [
       "8.0"
      ]
     },
     "execution_count": 50,
     "metadata": {},
     "output_type": "execute_result"
    }
   ],
   "source": [
    "df['MntFruits'].quantile(.5)"
   ]
  },
  {
   "cell_type": "code",
   "execution_count": 51,
   "id": "60945e40",
   "metadata": {},
   "outputs": [
    {
     "data": {
      "text/plain": [
       "33.0"
      ]
     },
     "execution_count": 51,
     "metadata": {},
     "output_type": "execute_result"
    }
   ],
   "source": [
    "df['MntFruits'].quantile(.75)"
   ]
  },
  {
   "cell_type": "code",
   "execution_count": 52,
   "id": "f0e220ba",
   "metadata": {},
   "outputs": [
    {
     "data": {
      "text/plain": [
       "count    2240.000000\n",
       "mean       26.302232\n",
       "std        39.773434\n",
       "min         0.000000\n",
       "25%         1.000000\n",
       "50%         8.000000\n",
       "75%        33.000000\n",
       "max       199.000000\n",
       "Name: MntFruits, dtype: float64"
      ]
     },
     "execution_count": 52,
     "metadata": {},
     "output_type": "execute_result"
    }
   ],
   "source": [
    "df['MntFruits'].describe()"
   ]
  },
  {
   "cell_type": "code",
   "execution_count": 53,
   "id": "e47d704f",
   "metadata": {},
   "outputs": [
    {
     "data": {
      "text/plain": [
       "166.95"
      ]
     },
     "execution_count": 53,
     "metadata": {},
     "output_type": "execute_result"
    }
   ],
   "source": [
    "df['MntMeatProducts'].mean()\n"
   ]
  },
  {
   "cell_type": "code",
   "execution_count": 55,
   "id": "191c7bf7",
   "metadata": {},
   "outputs": [
    {
     "data": {
      "text/plain": [
       "67.0"
      ]
     },
     "execution_count": 55,
     "metadata": {},
     "output_type": "execute_result"
    }
   ],
   "source": [
    "df['MntMeatProducts'].median()"
   ]
  },
  {
   "cell_type": "code",
   "execution_count": 56,
   "id": "95bf6622",
   "metadata": {},
   "outputs": [
    {
     "data": {
      "text/plain": [
       "225.71537251175445"
      ]
     },
     "execution_count": 56,
     "metadata": {},
     "output_type": "execute_result"
    }
   ],
   "source": [
    "df['MntMeatProducts'].std()"
   ]
  },
  {
   "cell_type": "code",
   "execution_count": 57,
   "id": "4704f711",
   "metadata": {},
   "outputs": [
    {
     "data": {
      "text/plain": [
       "50947.42938812007"
      ]
     },
     "execution_count": 57,
     "metadata": {},
     "output_type": "execute_result"
    }
   ],
   "source": [
    "df['MntMeatProducts'].var()"
   ]
  },
  {
   "cell_type": "code",
   "execution_count": 58,
   "id": "53b7c5e5",
   "metadata": {},
   "outputs": [
    {
     "data": {
      "text/plain": [
       "7.0"
      ]
     },
     "execution_count": 58,
     "metadata": {},
     "output_type": "execute_result"
    }
   ],
   "source": [
    "df['MntMeatProducts'].quantile(.1)"
   ]
  },
  {
   "cell_type": "code",
   "execution_count": 59,
   "id": "f6240846",
   "metadata": {},
   "outputs": [
    {
     "data": {
      "text/plain": [
       "16.0"
      ]
     },
     "execution_count": 59,
     "metadata": {},
     "output_type": "execute_result"
    }
   ],
   "source": [
    "df['MntMeatProducts'].quantile(.25)"
   ]
  },
  {
   "cell_type": "code",
   "execution_count": 60,
   "id": "fda0c190",
   "metadata": {},
   "outputs": [
    {
     "data": {
      "text/plain": [
       "67.0"
      ]
     },
     "execution_count": 60,
     "metadata": {},
     "output_type": "execute_result"
    }
   ],
   "source": [
    "df['MntMeatProducts'].quantile(.5)"
   ]
  },
  {
   "cell_type": "code",
   "execution_count": 61,
   "id": "52884c38",
   "metadata": {},
   "outputs": [
    {
     "data": {
      "text/plain": [
       "232.0"
      ]
     },
     "execution_count": 61,
     "metadata": {},
     "output_type": "execute_result"
    }
   ],
   "source": [
    "df['MntMeatProducts'].quantile(.75)"
   ]
  },
  {
   "cell_type": "code",
   "execution_count": 62,
   "id": "c9fa1ceb",
   "metadata": {},
   "outputs": [
    {
     "data": {
      "text/plain": [
       "count    2240.000000\n",
       "mean      166.950000\n",
       "std       225.715373\n",
       "min         0.000000\n",
       "25%        16.000000\n",
       "50%        67.000000\n",
       "75%       232.000000\n",
       "max      1725.000000\n",
       "Name: MntMeatProducts, dtype: float64"
      ]
     },
     "execution_count": 62,
     "metadata": {},
     "output_type": "execute_result"
    }
   ],
   "source": [
    "df['MntMeatProducts'].describe()"
   ]
  },
  {
   "cell_type": "code",
   "execution_count": 63,
   "id": "7d61eac9",
   "metadata": {},
   "outputs": [
    {
     "data": {
      "text/plain": [
       "37.52544642857143"
      ]
     },
     "execution_count": 63,
     "metadata": {},
     "output_type": "execute_result"
    }
   ],
   "source": [
    "df['MntFishProducts'].mean()"
   ]
  },
  {
   "cell_type": "code",
   "execution_count": 64,
   "id": "0e34ae9a",
   "metadata": {},
   "outputs": [
    {
     "data": {
      "text/plain": [
       "12.0"
      ]
     },
     "execution_count": 64,
     "metadata": {},
     "output_type": "execute_result"
    }
   ],
   "source": [
    "df['MntFishProducts'].median()"
   ]
  },
  {
   "cell_type": "code",
   "execution_count": 65,
   "id": "6e61f104",
   "metadata": {},
   "outputs": [
    {
     "data": {
      "text/plain": [
       "2984.3253906000346"
      ]
     },
     "execution_count": 65,
     "metadata": {},
     "output_type": "execute_result"
    }
   ],
   "source": [
    "df['MntFishProducts'].var()"
   ]
  },
  {
   "cell_type": "code",
   "execution_count": 66,
   "id": "d1665086",
   "metadata": {},
   "outputs": [
    {
     "data": {
      "text/plain": [
       "54.62897940287769"
      ]
     },
     "execution_count": 66,
     "metadata": {},
     "output_type": "execute_result"
    }
   ],
   "source": [
    "df['MntFishProducts'].std()"
   ]
  },
  {
   "cell_type": "code",
   "execution_count": 67,
   "id": "b6576980",
   "metadata": {},
   "outputs": [
    {
     "data": {
      "text/plain": [
       "0.0"
      ]
     },
     "execution_count": 67,
     "metadata": {},
     "output_type": "execute_result"
    }
   ],
   "source": [
    "df['MntFishProducts'].quantile(.1)"
   ]
  },
  {
   "cell_type": "code",
   "execution_count": 68,
   "id": "64631b02",
   "metadata": {},
   "outputs": [
    {
     "data": {
      "text/plain": [
       "3.0"
      ]
     },
     "execution_count": 68,
     "metadata": {},
     "output_type": "execute_result"
    }
   ],
   "source": [
    "df['MntFishProducts'].quantile(.25)"
   ]
  },
  {
   "cell_type": "code",
   "execution_count": 69,
   "id": "0bcb1205",
   "metadata": {},
   "outputs": [
    {
     "data": {
      "text/plain": [
       "12.0"
      ]
     },
     "execution_count": 69,
     "metadata": {},
     "output_type": "execute_result"
    }
   ],
   "source": [
    "df['MntFishProducts'].quantile(.5)"
   ]
  },
  {
   "cell_type": "code",
   "execution_count": 70,
   "id": "d100a27c",
   "metadata": {},
   "outputs": [
    {
     "data": {
      "text/plain": [
       "50.0"
      ]
     },
     "execution_count": 70,
     "metadata": {},
     "output_type": "execute_result"
    }
   ],
   "source": [
    "df['MntFishProducts'].quantile(.75)"
   ]
  },
  {
   "cell_type": "code",
   "execution_count": 71,
   "id": "55d179bb",
   "metadata": {},
   "outputs": [
    {
     "data": {
      "text/plain": [
       "count    2240.000000\n",
       "mean       37.525446\n",
       "std        54.628979\n",
       "min         0.000000\n",
       "25%         3.000000\n",
       "50%        12.000000\n",
       "75%        50.000000\n",
       "max       259.000000\n",
       "Name: MntFishProducts, dtype: float64"
      ]
     },
     "execution_count": 71,
     "metadata": {},
     "output_type": "execute_result"
    }
   ],
   "source": [
    "df['MntFishProducts'].describe()"
   ]
  },
  {
   "cell_type": "code",
   "execution_count": 73,
   "id": "f1025279",
   "metadata": {},
   "outputs": [
    {
     "data": {
      "text/plain": [
       "27.06294642857143"
      ]
     },
     "execution_count": 73,
     "metadata": {},
     "output_type": "execute_result"
    }
   ],
   "source": [
    "df['MntSweetProducts'].mean()"
   ]
  },
  {
   "cell_type": "code",
   "execution_count": 74,
   "id": "5ec0e4a9",
   "metadata": {},
   "outputs": [
    {
     "data": {
      "text/plain": [
       "8.0"
      ]
     },
     "execution_count": 74,
     "metadata": {},
     "output_type": "execute_result"
    }
   ],
   "source": [
    "df['MntSweetProducts'].median()"
   ]
  },
  {
   "cell_type": "code",
   "execution_count": 75,
   "id": "907b79a2",
   "metadata": {},
   "outputs": [
    {
     "data": {
      "text/plain": [
       "1704.0795554057822"
      ]
     },
     "execution_count": 75,
     "metadata": {},
     "output_type": "execute_result"
    }
   ],
   "source": [
    "df['MntSweetProducts'].var()"
   ]
  },
  {
   "cell_type": "code",
   "execution_count": 76,
   "id": "6512be80",
   "metadata": {},
   "outputs": [
    {
     "data": {
      "text/plain": [
       "41.2804984878548"
      ]
     },
     "execution_count": 76,
     "metadata": {},
     "output_type": "execute_result"
    }
   ],
   "source": [
    "df['MntSweetProducts'].std()"
   ]
  },
  {
   "cell_type": "code",
   "execution_count": 77,
   "id": "b26514f2",
   "metadata": {},
   "outputs": [
    {
     "data": {
      "text/plain": [
       "0.0"
      ]
     },
     "execution_count": 77,
     "metadata": {},
     "output_type": "execute_result"
    }
   ],
   "source": [
    "df['MntSweetProducts'].quantile(.1)"
   ]
  },
  {
   "cell_type": "code",
   "execution_count": 78,
   "id": "8585dfe7",
   "metadata": {},
   "outputs": [
    {
     "data": {
      "text/plain": [
       "1.0"
      ]
     },
     "execution_count": 78,
     "metadata": {},
     "output_type": "execute_result"
    }
   ],
   "source": [
    "df['MntSweetProducts'].quantile(.25)"
   ]
  },
  {
   "cell_type": "code",
   "execution_count": 80,
   "id": "9e2cf956",
   "metadata": {},
   "outputs": [
    {
     "data": {
      "text/plain": [
       "8.0"
      ]
     },
     "execution_count": 80,
     "metadata": {},
     "output_type": "execute_result"
    }
   ],
   "source": [
    "df['MntSweetProducts'].quantile(.5)\n"
   ]
  },
  {
   "cell_type": "code",
   "execution_count": 81,
   "id": "552788cf",
   "metadata": {},
   "outputs": [
    {
     "data": {
      "text/plain": [
       "33.0"
      ]
     },
     "execution_count": 81,
     "metadata": {},
     "output_type": "execute_result"
    }
   ],
   "source": [
    "df['MntSweetProducts'].quantile(.75)"
   ]
  },
  {
   "cell_type": "code",
   "execution_count": 82,
   "id": "cb92f6e1",
   "metadata": {},
   "outputs": [
    {
     "data": {
      "text/plain": [
       "count    2240.000000\n",
       "mean       27.062946\n",
       "std        41.280498\n",
       "min         0.000000\n",
       "25%         1.000000\n",
       "50%         8.000000\n",
       "75%        33.000000\n",
       "max       263.000000\n",
       "Name: MntSweetProducts, dtype: float64"
      ]
     },
     "execution_count": 82,
     "metadata": {},
     "output_type": "execute_result"
    }
   ],
   "source": [
    "df['MntSweetProducts'].describe()"
   ]
  },
  {
   "cell_type": "code",
   "execution_count": 91,
   "id": "299952c8",
   "metadata": {},
   "outputs": [
    {
     "data": {
      "text/html": [
       "<div>\n",
       "<style scoped>\n",
       "    .dataframe tbody tr th:only-of-type {\n",
       "        vertical-align: middle;\n",
       "    }\n",
       "\n",
       "    .dataframe tbody tr th {\n",
       "        vertical-align: top;\n",
       "    }\n",
       "\n",
       "    .dataframe thead th {\n",
       "        text-align: right;\n",
       "    }\n",
       "</style>\n",
       "<table border=\"1\" class=\"dataframe\">\n",
       "  <thead>\n",
       "    <tr style=\"text-align: right;\">\n",
       "      <th></th>\n",
       "      <th>MntFishProducts</th>\n",
       "      <th>NumStorePurchases</th>\n",
       "    </tr>\n",
       "  </thead>\n",
       "  <tbody>\n",
       "    <tr>\n",
       "      <th>MntFishProducts</th>\n",
       "      <td>1.000000</td>\n",
       "      <td>0.459855</td>\n",
       "    </tr>\n",
       "    <tr>\n",
       "      <th>NumStorePurchases</th>\n",
       "      <td>0.459855</td>\n",
       "      <td>1.000000</td>\n",
       "    </tr>\n",
       "  </tbody>\n",
       "</table>\n",
       "</div>"
      ],
      "text/plain": [
       "                   MntFishProducts  NumStorePurchases\n",
       "MntFishProducts           1.000000           0.459855\n",
       "NumStorePurchases         0.459855           1.000000"
      ]
     },
     "execution_count": 91,
     "metadata": {},
     "output_type": "execute_result"
    }
   ],
   "source": [
    "df[['MntFishProducts','NumStorePurchases']].corr(method='pearson')"
   ]
  },
  {
   "cell_type": "code",
   "execution_count": 92,
   "id": "f585ce37",
   "metadata": {},
   "outputs": [
    {
     "data": {
      "text/html": [
       "<div>\n",
       "<style scoped>\n",
       "    .dataframe tbody tr th:only-of-type {\n",
       "        vertical-align: middle;\n",
       "    }\n",
       "\n",
       "    .dataframe tbody tr th {\n",
       "        vertical-align: top;\n",
       "    }\n",
       "\n",
       "    .dataframe thead th {\n",
       "        text-align: right;\n",
       "    }\n",
       "</style>\n",
       "<table border=\"1\" class=\"dataframe\">\n",
       "  <thead>\n",
       "    <tr style=\"text-align: right;\">\n",
       "      <th></th>\n",
       "      <th>MntMeatProducts</th>\n",
       "      <th>NumStorePurchases</th>\n",
       "    </tr>\n",
       "  </thead>\n",
       "  <tbody>\n",
       "    <tr>\n",
       "      <th>MntMeatProducts</th>\n",
       "      <td>1.000000</td>\n",
       "      <td>0.479659</td>\n",
       "    </tr>\n",
       "    <tr>\n",
       "      <th>NumStorePurchases</th>\n",
       "      <td>0.479659</td>\n",
       "      <td>1.000000</td>\n",
       "    </tr>\n",
       "  </tbody>\n",
       "</table>\n",
       "</div>"
      ],
      "text/plain": [
       "                   MntMeatProducts  NumStorePurchases\n",
       "MntMeatProducts           1.000000           0.479659\n",
       "NumStorePurchases         0.479659           1.000000"
      ]
     },
     "execution_count": 92,
     "metadata": {},
     "output_type": "execute_result"
    }
   ],
   "source": [
    "df[['MntMeatProducts','NumStorePurchases']].corr(method='pearson')"
   ]
  },
  {
   "cell_type": "code",
   "execution_count": 93,
   "id": "139da546",
   "metadata": {
    "scrolled": true
   },
   "outputs": [
    {
     "data": {
      "text/html": [
       "<div>\n",
       "<style scoped>\n",
       "    .dataframe tbody tr th:only-of-type {\n",
       "        vertical-align: middle;\n",
       "    }\n",
       "\n",
       "    .dataframe tbody tr th {\n",
       "        vertical-align: top;\n",
       "    }\n",
       "\n",
       "    .dataframe thead th {\n",
       "        text-align: right;\n",
       "    }\n",
       "</style>\n",
       "<table border=\"1\" class=\"dataframe\">\n",
       "  <thead>\n",
       "    <tr style=\"text-align: right;\">\n",
       "      <th></th>\n",
       "      <th>MntSweetProducts</th>\n",
       "      <th>NumStorePurchases</th>\n",
       "    </tr>\n",
       "  </thead>\n",
       "  <tbody>\n",
       "    <tr>\n",
       "      <th>MntSweetProducts</th>\n",
       "      <td>1.000000</td>\n",
       "      <td>0.448756</td>\n",
       "    </tr>\n",
       "    <tr>\n",
       "      <th>NumStorePurchases</th>\n",
       "      <td>0.448756</td>\n",
       "      <td>1.000000</td>\n",
       "    </tr>\n",
       "  </tbody>\n",
       "</table>\n",
       "</div>"
      ],
      "text/plain": [
       "                   MntSweetProducts  NumStorePurchases\n",
       "MntSweetProducts           1.000000           0.448756\n",
       "NumStorePurchases          0.448756           1.000000"
      ]
     },
     "execution_count": 93,
     "metadata": {},
     "output_type": "execute_result"
    }
   ],
   "source": [
    "df[['MntSweetProducts','NumStorePurchases']].corr(method='pearson')"
   ]
  },
  {
   "cell_type": "code",
   "execution_count": 94,
   "id": "773890c4",
   "metadata": {},
   "outputs": [
    {
     "data": {
      "text/html": [
       "<div>\n",
       "<style scoped>\n",
       "    .dataframe tbody tr th:only-of-type {\n",
       "        vertical-align: middle;\n",
       "    }\n",
       "\n",
       "    .dataframe tbody tr th {\n",
       "        vertical-align: top;\n",
       "    }\n",
       "\n",
       "    .dataframe thead th {\n",
       "        text-align: right;\n",
       "    }\n",
       "</style>\n",
       "<table border=\"1\" class=\"dataframe\">\n",
       "  <thead>\n",
       "    <tr style=\"text-align: right;\">\n",
       "      <th></th>\n",
       "      <th>ID</th>\n",
       "      <th>Year_Birth</th>\n",
       "      <th>Kidhome</th>\n",
       "      <th>Teenhome</th>\n",
       "      <th>Recency</th>\n",
       "      <th>MntWines</th>\n",
       "      <th>MntFruits</th>\n",
       "      <th>MntMeatProducts</th>\n",
       "      <th>MntFishProducts</th>\n",
       "      <th>MntSweetProducts</th>\n",
       "      <th>MntGoldProds</th>\n",
       "      <th>NumDealsPurchases</th>\n",
       "      <th>NumWebPurchases</th>\n",
       "      <th>NumCatalogPurchases</th>\n",
       "      <th>NumStorePurchases</th>\n",
       "      <th>NumWebVisitsMonth</th>\n",
       "      <th>AcceptedCmp3</th>\n",
       "      <th>AcceptedCmp4</th>\n",
       "      <th>AcceptedCmp5</th>\n",
       "      <th>AcceptedCmp1</th>\n",
       "      <th>AcceptedCmp2</th>\n",
       "      <th>Response</th>\n",
       "      <th>Complain</th>\n",
       "    </tr>\n",
       "  </thead>\n",
       "  <tbody>\n",
       "    <tr>\n",
       "      <th>ID</th>\n",
       "      <td>1.000000</td>\n",
       "      <td>0.000028</td>\n",
       "      <td>0.002406</td>\n",
       "      <td>-0.002580</td>\n",
       "      <td>-0.046524</td>\n",
       "      <td>-0.022878</td>\n",
       "      <td>0.004600</td>\n",
       "      <td>-0.004437</td>\n",
       "      <td>-0.024475</td>\n",
       "      <td>-0.007642</td>\n",
       "      <td>-0.013438</td>\n",
       "      <td>-0.037166</td>\n",
       "      <td>-0.018924</td>\n",
       "      <td>-0.003440</td>\n",
       "      <td>-0.014927</td>\n",
       "      <td>-0.007446</td>\n",
       "      <td>-0.036040</td>\n",
       "      <td>-0.025387</td>\n",
       "      <td>-0.007517</td>\n",
       "      <td>-0.021614</td>\n",
       "      <td>-0.015061</td>\n",
       "      <td>-0.021968</td>\n",
       "      <td>0.033883</td>\n",
       "    </tr>\n",
       "    <tr>\n",
       "      <th>Year_Birth</th>\n",
       "      <td>0.000028</td>\n",
       "      <td>1.000000</td>\n",
       "      <td>0.230176</td>\n",
       "      <td>-0.352111</td>\n",
       "      <td>-0.019871</td>\n",
       "      <td>-0.157773</td>\n",
       "      <td>-0.017917</td>\n",
       "      <td>-0.030872</td>\n",
       "      <td>-0.041625</td>\n",
       "      <td>-0.018133</td>\n",
       "      <td>-0.061818</td>\n",
       "      <td>-0.060846</td>\n",
       "      <td>-0.145040</td>\n",
       "      <td>-0.121275</td>\n",
       "      <td>-0.128272</td>\n",
       "      <td>0.121139</td>\n",
       "      <td>0.061774</td>\n",
       "      <td>-0.060510</td>\n",
       "      <td>0.007123</td>\n",
       "      <td>-0.005930</td>\n",
       "      <td>-0.006539</td>\n",
       "      <td>0.021325</td>\n",
       "      <td>-0.030128</td>\n",
       "    </tr>\n",
       "    <tr>\n",
       "      <th>Kidhome</th>\n",
       "      <td>0.002406</td>\n",
       "      <td>0.230176</td>\n",
       "      <td>1.000000</td>\n",
       "      <td>-0.036133</td>\n",
       "      <td>0.008827</td>\n",
       "      <td>-0.496297</td>\n",
       "      <td>-0.372581</td>\n",
       "      <td>-0.437129</td>\n",
       "      <td>-0.387644</td>\n",
       "      <td>-0.370673</td>\n",
       "      <td>-0.349595</td>\n",
       "      <td>0.221798</td>\n",
       "      <td>-0.361647</td>\n",
       "      <td>-0.502237</td>\n",
       "      <td>-0.499683</td>\n",
       "      <td>0.447846</td>\n",
       "      <td>0.014674</td>\n",
       "      <td>-0.161600</td>\n",
       "      <td>-0.205634</td>\n",
       "      <td>-0.172339</td>\n",
       "      <td>-0.081716</td>\n",
       "      <td>-0.080008</td>\n",
       "      <td>0.040207</td>\n",
       "    </tr>\n",
       "    <tr>\n",
       "      <th>Teenhome</th>\n",
       "      <td>-0.002580</td>\n",
       "      <td>-0.352111</td>\n",
       "      <td>-0.036133</td>\n",
       "      <td>1.000000</td>\n",
       "      <td>0.016198</td>\n",
       "      <td>0.004846</td>\n",
       "      <td>-0.176764</td>\n",
       "      <td>-0.261160</td>\n",
       "      <td>-0.204187</td>\n",
       "      <td>-0.162475</td>\n",
       "      <td>-0.021725</td>\n",
       "      <td>0.387741</td>\n",
       "      <td>0.155500</td>\n",
       "      <td>-0.110769</td>\n",
       "      <td>0.050695</td>\n",
       "      <td>0.134884</td>\n",
       "      <td>-0.042677</td>\n",
       "      <td>0.038886</td>\n",
       "      <td>-0.191050</td>\n",
       "      <td>-0.140090</td>\n",
       "      <td>-0.015605</td>\n",
       "      <td>-0.154446</td>\n",
       "      <td>0.003138</td>\n",
       "    </tr>\n",
       "    <tr>\n",
       "      <th>Recency</th>\n",
       "      <td>-0.046524</td>\n",
       "      <td>-0.019871</td>\n",
       "      <td>0.008827</td>\n",
       "      <td>0.016198</td>\n",
       "      <td>1.000000</td>\n",
       "      <td>0.016064</td>\n",
       "      <td>-0.004306</td>\n",
       "      <td>0.023056</td>\n",
       "      <td>0.001079</td>\n",
       "      <td>0.022670</td>\n",
       "      <td>0.016693</td>\n",
       "      <td>-0.001098</td>\n",
       "      <td>-0.010726</td>\n",
       "      <td>0.025110</td>\n",
       "      <td>0.000799</td>\n",
       "      <td>-0.021445</td>\n",
       "      <td>-0.032991</td>\n",
       "      <td>0.018826</td>\n",
       "      <td>0.000129</td>\n",
       "      <td>-0.019283</td>\n",
       "      <td>-0.001781</td>\n",
       "      <td>-0.198437</td>\n",
       "      <td>0.013231</td>\n",
       "    </tr>\n",
       "    <tr>\n",
       "      <th>MntWines</th>\n",
       "      <td>-0.022878</td>\n",
       "      <td>-0.157773</td>\n",
       "      <td>-0.496297</td>\n",
       "      <td>0.004846</td>\n",
       "      <td>0.016064</td>\n",
       "      <td>1.000000</td>\n",
       "      <td>0.389637</td>\n",
       "      <td>0.562667</td>\n",
       "      <td>0.399753</td>\n",
       "      <td>0.386581</td>\n",
       "      <td>0.387516</td>\n",
       "      <td>0.010940</td>\n",
       "      <td>0.542265</td>\n",
       "      <td>0.635226</td>\n",
       "      <td>0.642100</td>\n",
       "      <td>-0.320653</td>\n",
       "      <td>0.062202</td>\n",
       "      <td>0.373286</td>\n",
       "      <td>0.472613</td>\n",
       "      <td>0.354133</td>\n",
       "      <td>0.205907</td>\n",
       "      <td>0.247254</td>\n",
       "      <td>-0.039007</td>\n",
       "    </tr>\n",
       "    <tr>\n",
       "      <th>MntFruits</th>\n",
       "      <td>0.004600</td>\n",
       "      <td>-0.017917</td>\n",
       "      <td>-0.372581</td>\n",
       "      <td>-0.176764</td>\n",
       "      <td>-0.004306</td>\n",
       "      <td>0.389637</td>\n",
       "      <td>1.000000</td>\n",
       "      <td>0.543105</td>\n",
       "      <td>0.594804</td>\n",
       "      <td>0.567164</td>\n",
       "      <td>0.392995</td>\n",
       "      <td>-0.132114</td>\n",
       "      <td>0.296735</td>\n",
       "      <td>0.487917</td>\n",
       "      <td>0.461758</td>\n",
       "      <td>-0.418383</td>\n",
       "      <td>0.014727</td>\n",
       "      <td>0.010152</td>\n",
       "      <td>0.215833</td>\n",
       "      <td>0.194748</td>\n",
       "      <td>-0.009773</td>\n",
       "      <td>0.125289</td>\n",
       "      <td>-0.005166</td>\n",
       "    </tr>\n",
       "    <tr>\n",
       "      <th>MntMeatProducts</th>\n",
       "      <td>-0.004437</td>\n",
       "      <td>-0.030872</td>\n",
       "      <td>-0.437129</td>\n",
       "      <td>-0.261160</td>\n",
       "      <td>0.023056</td>\n",
       "      <td>0.562667</td>\n",
       "      <td>0.543105</td>\n",
       "      <td>1.000000</td>\n",
       "      <td>0.568402</td>\n",
       "      <td>0.523846</td>\n",
       "      <td>0.350609</td>\n",
       "      <td>-0.122415</td>\n",
       "      <td>0.293761</td>\n",
       "      <td>0.723827</td>\n",
       "      <td>0.479659</td>\n",
       "      <td>-0.539470</td>\n",
       "      <td>0.018272</td>\n",
       "      <td>0.102912</td>\n",
       "      <td>0.373769</td>\n",
       "      <td>0.309761</td>\n",
       "      <td>0.043033</td>\n",
       "      <td>0.236335</td>\n",
       "      <td>-0.023483</td>\n",
       "    </tr>\n",
       "    <tr>\n",
       "      <th>MntFishProducts</th>\n",
       "      <td>-0.024475</td>\n",
       "      <td>-0.041625</td>\n",
       "      <td>-0.387644</td>\n",
       "      <td>-0.204187</td>\n",
       "      <td>0.001079</td>\n",
       "      <td>0.399753</td>\n",
       "      <td>0.594804</td>\n",
       "      <td>0.568402</td>\n",
       "      <td>1.000000</td>\n",
       "      <td>0.579870</td>\n",
       "      <td>0.422875</td>\n",
       "      <td>-0.139361</td>\n",
       "      <td>0.293681</td>\n",
       "      <td>0.534478</td>\n",
       "      <td>0.459855</td>\n",
       "      <td>-0.446003</td>\n",
       "      <td>0.000357</td>\n",
       "      <td>0.016843</td>\n",
       "      <td>0.199578</td>\n",
       "      <td>0.260762</td>\n",
       "      <td>0.002577</td>\n",
       "      <td>0.111331</td>\n",
       "      <td>-0.020953</td>\n",
       "    </tr>\n",
       "    <tr>\n",
       "      <th>MntSweetProducts</th>\n",
       "      <td>-0.007642</td>\n",
       "      <td>-0.018133</td>\n",
       "      <td>-0.370673</td>\n",
       "      <td>-0.162475</td>\n",
       "      <td>0.022670</td>\n",
       "      <td>0.386581</td>\n",
       "      <td>0.567164</td>\n",
       "      <td>0.523846</td>\n",
       "      <td>0.579870</td>\n",
       "      <td>1.000000</td>\n",
       "      <td>0.369724</td>\n",
       "      <td>-0.120100</td>\n",
       "      <td>0.348544</td>\n",
       "      <td>0.490924</td>\n",
       "      <td>0.448756</td>\n",
       "      <td>-0.423294</td>\n",
       "      <td>0.001530</td>\n",
       "      <td>0.028641</td>\n",
       "      <td>0.259590</td>\n",
       "      <td>0.241818</td>\n",
       "      <td>0.009985</td>\n",
       "      <td>0.117372</td>\n",
       "      <td>-0.022485</td>\n",
       "    </tr>\n",
       "    <tr>\n",
       "      <th>MntGoldProds</th>\n",
       "      <td>-0.013438</td>\n",
       "      <td>-0.061818</td>\n",
       "      <td>-0.349595</td>\n",
       "      <td>-0.021725</td>\n",
       "      <td>0.016693</td>\n",
       "      <td>0.387516</td>\n",
       "      <td>0.392995</td>\n",
       "      <td>0.350609</td>\n",
       "      <td>0.422875</td>\n",
       "      <td>0.369724</td>\n",
       "      <td>1.000000</td>\n",
       "      <td>0.049085</td>\n",
       "      <td>0.421836</td>\n",
       "      <td>0.437697</td>\n",
       "      <td>0.381678</td>\n",
       "      <td>-0.250719</td>\n",
       "      <td>0.123091</td>\n",
       "      <td>0.022268</td>\n",
       "      <td>0.181021</td>\n",
       "      <td>0.166396</td>\n",
       "      <td>0.049990</td>\n",
       "      <td>0.139850</td>\n",
       "      <td>-0.030861</td>\n",
       "    </tr>\n",
       "    <tr>\n",
       "      <th>NumDealsPurchases</th>\n",
       "      <td>-0.037166</td>\n",
       "      <td>-0.060846</td>\n",
       "      <td>0.221798</td>\n",
       "      <td>0.387741</td>\n",
       "      <td>-0.001098</td>\n",
       "      <td>0.010940</td>\n",
       "      <td>-0.132114</td>\n",
       "      <td>-0.122415</td>\n",
       "      <td>-0.139361</td>\n",
       "      <td>-0.120100</td>\n",
       "      <td>0.049085</td>\n",
       "      <td>1.000000</td>\n",
       "      <td>0.234185</td>\n",
       "      <td>-0.008617</td>\n",
       "      <td>0.068879</td>\n",
       "      <td>0.347633</td>\n",
       "      <td>-0.023109</td>\n",
       "      <td>0.015594</td>\n",
       "      <td>-0.183248</td>\n",
       "      <td>-0.123244</td>\n",
       "      <td>-0.037695</td>\n",
       "      <td>0.002238</td>\n",
       "      <td>0.000420</td>\n",
       "    </tr>\n",
       "    <tr>\n",
       "      <th>NumWebPurchases</th>\n",
       "      <td>-0.018924</td>\n",
       "      <td>-0.145040</td>\n",
       "      <td>-0.361647</td>\n",
       "      <td>0.155500</td>\n",
       "      <td>-0.010726</td>\n",
       "      <td>0.542265</td>\n",
       "      <td>0.296735</td>\n",
       "      <td>0.293761</td>\n",
       "      <td>0.293681</td>\n",
       "      <td>0.348544</td>\n",
       "      <td>0.421836</td>\n",
       "      <td>0.234185</td>\n",
       "      <td>1.000000</td>\n",
       "      <td>0.378376</td>\n",
       "      <td>0.502713</td>\n",
       "      <td>-0.055846</td>\n",
       "      <td>0.042176</td>\n",
       "      <td>0.155903</td>\n",
       "      <td>0.138684</td>\n",
       "      <td>0.155143</td>\n",
       "      <td>0.034188</td>\n",
       "      <td>0.148730</td>\n",
       "      <td>-0.016310</td>\n",
       "    </tr>\n",
       "    <tr>\n",
       "      <th>NumCatalogPurchases</th>\n",
       "      <td>-0.003440</td>\n",
       "      <td>-0.121275</td>\n",
       "      <td>-0.502237</td>\n",
       "      <td>-0.110769</td>\n",
       "      <td>0.025110</td>\n",
       "      <td>0.635226</td>\n",
       "      <td>0.487917</td>\n",
       "      <td>0.723827</td>\n",
       "      <td>0.534478</td>\n",
       "      <td>0.490924</td>\n",
       "      <td>0.437697</td>\n",
       "      <td>-0.008617</td>\n",
       "      <td>0.378376</td>\n",
       "      <td>1.000000</td>\n",
       "      <td>0.518738</td>\n",
       "      <td>-0.520364</td>\n",
       "      <td>0.104730</td>\n",
       "      <td>0.139247</td>\n",
       "      <td>0.322321</td>\n",
       "      <td>0.308097</td>\n",
       "      <td>0.099852</td>\n",
       "      <td>0.220810</td>\n",
       "      <td>-0.020453</td>\n",
       "    </tr>\n",
       "    <tr>\n",
       "      <th>NumStorePurchases</th>\n",
       "      <td>-0.014927</td>\n",
       "      <td>-0.128272</td>\n",
       "      <td>-0.499683</td>\n",
       "      <td>0.050695</td>\n",
       "      <td>0.000799</td>\n",
       "      <td>0.642100</td>\n",
       "      <td>0.461758</td>\n",
       "      <td>0.479659</td>\n",
       "      <td>0.459855</td>\n",
       "      <td>0.448756</td>\n",
       "      <td>0.381678</td>\n",
       "      <td>0.068879</td>\n",
       "      <td>0.502713</td>\n",
       "      <td>0.518738</td>\n",
       "      <td>1.000000</td>\n",
       "      <td>-0.428473</td>\n",
       "      <td>-0.067577</td>\n",
       "      <td>0.179379</td>\n",
       "      <td>0.214790</td>\n",
       "      <td>0.183249</td>\n",
       "      <td>0.085189</td>\n",
       "      <td>0.039363</td>\n",
       "      <td>-0.016524</td>\n",
       "    </tr>\n",
       "    <tr>\n",
       "      <th>NumWebVisitsMonth</th>\n",
       "      <td>-0.007446</td>\n",
       "      <td>0.121139</td>\n",
       "      <td>0.447846</td>\n",
       "      <td>0.134884</td>\n",
       "      <td>-0.021445</td>\n",
       "      <td>-0.320653</td>\n",
       "      <td>-0.418383</td>\n",
       "      <td>-0.539470</td>\n",
       "      <td>-0.446003</td>\n",
       "      <td>-0.423294</td>\n",
       "      <td>-0.250719</td>\n",
       "      <td>0.347633</td>\n",
       "      <td>-0.055846</td>\n",
       "      <td>-0.520364</td>\n",
       "      <td>-0.428473</td>\n",
       "      <td>1.000000</td>\n",
       "      <td>0.061211</td>\n",
       "      <td>-0.032126</td>\n",
       "      <td>-0.278113</td>\n",
       "      <td>-0.192502</td>\n",
       "      <td>-0.007196</td>\n",
       "      <td>-0.003987</td>\n",
       "      <td>0.019769</td>\n",
       "    </tr>\n",
       "    <tr>\n",
       "      <th>AcceptedCmp3</th>\n",
       "      <td>-0.036040</td>\n",
       "      <td>0.061774</td>\n",
       "      <td>0.014674</td>\n",
       "      <td>-0.042677</td>\n",
       "      <td>-0.032991</td>\n",
       "      <td>0.062202</td>\n",
       "      <td>0.014727</td>\n",
       "      <td>0.018272</td>\n",
       "      <td>0.000357</td>\n",
       "      <td>0.001530</td>\n",
       "      <td>0.123091</td>\n",
       "      <td>-0.023109</td>\n",
       "      <td>0.042176</td>\n",
       "      <td>0.104730</td>\n",
       "      <td>-0.067577</td>\n",
       "      <td>0.061211</td>\n",
       "      <td>1.000000</td>\n",
       "      <td>-0.079512</td>\n",
       "      <td>0.080316</td>\n",
       "      <td>0.094751</td>\n",
       "      <td>0.072020</td>\n",
       "      <td>0.254258</td>\n",
       "      <td>0.008415</td>\n",
       "    </tr>\n",
       "    <tr>\n",
       "      <th>AcceptedCmp4</th>\n",
       "      <td>-0.025387</td>\n",
       "      <td>-0.060510</td>\n",
       "      <td>-0.161600</td>\n",
       "      <td>0.038886</td>\n",
       "      <td>0.018826</td>\n",
       "      <td>0.373286</td>\n",
       "      <td>0.010152</td>\n",
       "      <td>0.102912</td>\n",
       "      <td>0.016843</td>\n",
       "      <td>0.028641</td>\n",
       "      <td>0.022268</td>\n",
       "      <td>0.015594</td>\n",
       "      <td>0.155903</td>\n",
       "      <td>0.139247</td>\n",
       "      <td>0.179379</td>\n",
       "      <td>-0.032126</td>\n",
       "      <td>-0.079512</td>\n",
       "      <td>1.000000</td>\n",
       "      <td>0.306526</td>\n",
       "      <td>0.251300</td>\n",
       "      <td>0.292210</td>\n",
       "      <td>0.177019</td>\n",
       "      <td>-0.027611</td>\n",
       "    </tr>\n",
       "    <tr>\n",
       "      <th>AcceptedCmp5</th>\n",
       "      <td>-0.007517</td>\n",
       "      <td>0.007123</td>\n",
       "      <td>-0.205634</td>\n",
       "      <td>-0.191050</td>\n",
       "      <td>0.000129</td>\n",
       "      <td>0.472613</td>\n",
       "      <td>0.215833</td>\n",
       "      <td>0.373769</td>\n",
       "      <td>0.199578</td>\n",
       "      <td>0.259590</td>\n",
       "      <td>0.181021</td>\n",
       "      <td>-0.183248</td>\n",
       "      <td>0.138684</td>\n",
       "      <td>0.322321</td>\n",
       "      <td>0.214790</td>\n",
       "      <td>-0.278113</td>\n",
       "      <td>0.080316</td>\n",
       "      <td>0.306526</td>\n",
       "      <td>1.000000</td>\n",
       "      <td>0.403078</td>\n",
       "      <td>0.221533</td>\n",
       "      <td>0.326634</td>\n",
       "      <td>-0.009419</td>\n",
       "    </tr>\n",
       "    <tr>\n",
       "      <th>AcceptedCmp1</th>\n",
       "      <td>-0.021614</td>\n",
       "      <td>-0.005930</td>\n",
       "      <td>-0.172339</td>\n",
       "      <td>-0.140090</td>\n",
       "      <td>-0.019283</td>\n",
       "      <td>0.354133</td>\n",
       "      <td>0.194748</td>\n",
       "      <td>0.309761</td>\n",
       "      <td>0.260762</td>\n",
       "      <td>0.241818</td>\n",
       "      <td>0.166396</td>\n",
       "      <td>-0.123244</td>\n",
       "      <td>0.155143</td>\n",
       "      <td>0.308097</td>\n",
       "      <td>0.183249</td>\n",
       "      <td>-0.192502</td>\n",
       "      <td>0.094751</td>\n",
       "      <td>0.251300</td>\n",
       "      <td>0.403078</td>\n",
       "      <td>1.000000</td>\n",
       "      <td>0.175315</td>\n",
       "      <td>0.293982</td>\n",
       "      <td>-0.025499</td>\n",
       "    </tr>\n",
       "    <tr>\n",
       "      <th>AcceptedCmp2</th>\n",
       "      <td>-0.015061</td>\n",
       "      <td>-0.006539</td>\n",
       "      <td>-0.081716</td>\n",
       "      <td>-0.015605</td>\n",
       "      <td>-0.001781</td>\n",
       "      <td>0.205907</td>\n",
       "      <td>-0.009773</td>\n",
       "      <td>0.043033</td>\n",
       "      <td>0.002577</td>\n",
       "      <td>0.009985</td>\n",
       "      <td>0.049990</td>\n",
       "      <td>-0.037695</td>\n",
       "      <td>0.034188</td>\n",
       "      <td>0.099852</td>\n",
       "      <td>0.085189</td>\n",
       "      <td>-0.007196</td>\n",
       "      <td>0.072020</td>\n",
       "      <td>0.292210</td>\n",
       "      <td>0.221533</td>\n",
       "      <td>0.175315</td>\n",
       "      <td>1.000000</td>\n",
       "      <td>0.169293</td>\n",
       "      <td>-0.011334</td>\n",
       "    </tr>\n",
       "    <tr>\n",
       "      <th>Response</th>\n",
       "      <td>-0.021968</td>\n",
       "      <td>0.021325</td>\n",
       "      <td>-0.080008</td>\n",
       "      <td>-0.154446</td>\n",
       "      <td>-0.198437</td>\n",
       "      <td>0.247254</td>\n",
       "      <td>0.125289</td>\n",
       "      <td>0.236335</td>\n",
       "      <td>0.111331</td>\n",
       "      <td>0.117372</td>\n",
       "      <td>0.139850</td>\n",
       "      <td>0.002238</td>\n",
       "      <td>0.148730</td>\n",
       "      <td>0.220810</td>\n",
       "      <td>0.039363</td>\n",
       "      <td>-0.003987</td>\n",
       "      <td>0.254258</td>\n",
       "      <td>0.177019</td>\n",
       "      <td>0.326634</td>\n",
       "      <td>0.293982</td>\n",
       "      <td>0.169293</td>\n",
       "      <td>1.000000</td>\n",
       "      <td>-0.001707</td>\n",
       "    </tr>\n",
       "    <tr>\n",
       "      <th>Complain</th>\n",
       "      <td>0.033883</td>\n",
       "      <td>-0.030128</td>\n",
       "      <td>0.040207</td>\n",
       "      <td>0.003138</td>\n",
       "      <td>0.013231</td>\n",
       "      <td>-0.039007</td>\n",
       "      <td>-0.005166</td>\n",
       "      <td>-0.023483</td>\n",
       "      <td>-0.020953</td>\n",
       "      <td>-0.022485</td>\n",
       "      <td>-0.030861</td>\n",
       "      <td>0.000420</td>\n",
       "      <td>-0.016310</td>\n",
       "      <td>-0.020453</td>\n",
       "      <td>-0.016524</td>\n",
       "      <td>0.019769</td>\n",
       "      <td>0.008415</td>\n",
       "      <td>-0.027611</td>\n",
       "      <td>-0.009419</td>\n",
       "      <td>-0.025499</td>\n",
       "      <td>-0.011334</td>\n",
       "      <td>-0.001707</td>\n",
       "      <td>1.000000</td>\n",
       "    </tr>\n",
       "  </tbody>\n",
       "</table>\n",
       "</div>"
      ],
      "text/plain": [
       "                           ID  Year_Birth   Kidhome  Teenhome   Recency  \\\n",
       "ID                   1.000000    0.000028  0.002406 -0.002580 -0.046524   \n",
       "Year_Birth           0.000028    1.000000  0.230176 -0.352111 -0.019871   \n",
       "Kidhome              0.002406    0.230176  1.000000 -0.036133  0.008827   \n",
       "Teenhome            -0.002580   -0.352111 -0.036133  1.000000  0.016198   \n",
       "Recency             -0.046524   -0.019871  0.008827  0.016198  1.000000   \n",
       "MntWines            -0.022878   -0.157773 -0.496297  0.004846  0.016064   \n",
       "MntFruits            0.004600   -0.017917 -0.372581 -0.176764 -0.004306   \n",
       "MntMeatProducts     -0.004437   -0.030872 -0.437129 -0.261160  0.023056   \n",
       "MntFishProducts     -0.024475   -0.041625 -0.387644 -0.204187  0.001079   \n",
       "MntSweetProducts    -0.007642   -0.018133 -0.370673 -0.162475  0.022670   \n",
       "MntGoldProds        -0.013438   -0.061818 -0.349595 -0.021725  0.016693   \n",
       "NumDealsPurchases   -0.037166   -0.060846  0.221798  0.387741 -0.001098   \n",
       "NumWebPurchases     -0.018924   -0.145040 -0.361647  0.155500 -0.010726   \n",
       "NumCatalogPurchases -0.003440   -0.121275 -0.502237 -0.110769  0.025110   \n",
       "NumStorePurchases   -0.014927   -0.128272 -0.499683  0.050695  0.000799   \n",
       "NumWebVisitsMonth   -0.007446    0.121139  0.447846  0.134884 -0.021445   \n",
       "AcceptedCmp3        -0.036040    0.061774  0.014674 -0.042677 -0.032991   \n",
       "AcceptedCmp4        -0.025387   -0.060510 -0.161600  0.038886  0.018826   \n",
       "AcceptedCmp5        -0.007517    0.007123 -0.205634 -0.191050  0.000129   \n",
       "AcceptedCmp1        -0.021614   -0.005930 -0.172339 -0.140090 -0.019283   \n",
       "AcceptedCmp2        -0.015061   -0.006539 -0.081716 -0.015605 -0.001781   \n",
       "Response            -0.021968    0.021325 -0.080008 -0.154446 -0.198437   \n",
       "Complain             0.033883   -0.030128  0.040207  0.003138  0.013231   \n",
       "\n",
       "                     MntWines  MntFruits  MntMeatProducts  MntFishProducts  \\\n",
       "ID                  -0.022878   0.004600        -0.004437        -0.024475   \n",
       "Year_Birth          -0.157773  -0.017917        -0.030872        -0.041625   \n",
       "Kidhome             -0.496297  -0.372581        -0.437129        -0.387644   \n",
       "Teenhome             0.004846  -0.176764        -0.261160        -0.204187   \n",
       "Recency              0.016064  -0.004306         0.023056         0.001079   \n",
       "MntWines             1.000000   0.389637         0.562667         0.399753   \n",
       "MntFruits            0.389637   1.000000         0.543105         0.594804   \n",
       "MntMeatProducts      0.562667   0.543105         1.000000         0.568402   \n",
       "MntFishProducts      0.399753   0.594804         0.568402         1.000000   \n",
       "MntSweetProducts     0.386581   0.567164         0.523846         0.579870   \n",
       "MntGoldProds         0.387516   0.392995         0.350609         0.422875   \n",
       "NumDealsPurchases    0.010940  -0.132114        -0.122415        -0.139361   \n",
       "NumWebPurchases      0.542265   0.296735         0.293761         0.293681   \n",
       "NumCatalogPurchases  0.635226   0.487917         0.723827         0.534478   \n",
       "NumStorePurchases    0.642100   0.461758         0.479659         0.459855   \n",
       "NumWebVisitsMonth   -0.320653  -0.418383        -0.539470        -0.446003   \n",
       "AcceptedCmp3         0.062202   0.014727         0.018272         0.000357   \n",
       "AcceptedCmp4         0.373286   0.010152         0.102912         0.016843   \n",
       "AcceptedCmp5         0.472613   0.215833         0.373769         0.199578   \n",
       "AcceptedCmp1         0.354133   0.194748         0.309761         0.260762   \n",
       "AcceptedCmp2         0.205907  -0.009773         0.043033         0.002577   \n",
       "Response             0.247254   0.125289         0.236335         0.111331   \n",
       "Complain            -0.039007  -0.005166        -0.023483        -0.020953   \n",
       "\n",
       "                     MntSweetProducts  MntGoldProds  NumDealsPurchases  \\\n",
       "ID                          -0.007642     -0.013438          -0.037166   \n",
       "Year_Birth                  -0.018133     -0.061818          -0.060846   \n",
       "Kidhome                     -0.370673     -0.349595           0.221798   \n",
       "Teenhome                    -0.162475     -0.021725           0.387741   \n",
       "Recency                      0.022670      0.016693          -0.001098   \n",
       "MntWines                     0.386581      0.387516           0.010940   \n",
       "MntFruits                    0.567164      0.392995          -0.132114   \n",
       "MntMeatProducts              0.523846      0.350609          -0.122415   \n",
       "MntFishProducts              0.579870      0.422875          -0.139361   \n",
       "MntSweetProducts             1.000000      0.369724          -0.120100   \n",
       "MntGoldProds                 0.369724      1.000000           0.049085   \n",
       "NumDealsPurchases           -0.120100      0.049085           1.000000   \n",
       "NumWebPurchases              0.348544      0.421836           0.234185   \n",
       "NumCatalogPurchases          0.490924      0.437697          -0.008617   \n",
       "NumStorePurchases            0.448756      0.381678           0.068879   \n",
       "NumWebVisitsMonth           -0.423294     -0.250719           0.347633   \n",
       "AcceptedCmp3                 0.001530      0.123091          -0.023109   \n",
       "AcceptedCmp4                 0.028641      0.022268           0.015594   \n",
       "AcceptedCmp5                 0.259590      0.181021          -0.183248   \n",
       "AcceptedCmp1                 0.241818      0.166396          -0.123244   \n",
       "AcceptedCmp2                 0.009985      0.049990          -0.037695   \n",
       "Response                     0.117372      0.139850           0.002238   \n",
       "Complain                    -0.022485     -0.030861           0.000420   \n",
       "\n",
       "                     NumWebPurchases  NumCatalogPurchases  NumStorePurchases  \\\n",
       "ID                         -0.018924            -0.003440          -0.014927   \n",
       "Year_Birth                 -0.145040            -0.121275          -0.128272   \n",
       "Kidhome                    -0.361647            -0.502237          -0.499683   \n",
       "Teenhome                    0.155500            -0.110769           0.050695   \n",
       "Recency                    -0.010726             0.025110           0.000799   \n",
       "MntWines                    0.542265             0.635226           0.642100   \n",
       "MntFruits                   0.296735             0.487917           0.461758   \n",
       "MntMeatProducts             0.293761             0.723827           0.479659   \n",
       "MntFishProducts             0.293681             0.534478           0.459855   \n",
       "MntSweetProducts            0.348544             0.490924           0.448756   \n",
       "MntGoldProds                0.421836             0.437697           0.381678   \n",
       "NumDealsPurchases           0.234185            -0.008617           0.068879   \n",
       "NumWebPurchases             1.000000             0.378376           0.502713   \n",
       "NumCatalogPurchases         0.378376             1.000000           0.518738   \n",
       "NumStorePurchases           0.502713             0.518738           1.000000   \n",
       "NumWebVisitsMonth          -0.055846            -0.520364          -0.428473   \n",
       "AcceptedCmp3                0.042176             0.104730          -0.067577   \n",
       "AcceptedCmp4                0.155903             0.139247           0.179379   \n",
       "AcceptedCmp5                0.138684             0.322321           0.214790   \n",
       "AcceptedCmp1                0.155143             0.308097           0.183249   \n",
       "AcceptedCmp2                0.034188             0.099852           0.085189   \n",
       "Response                    0.148730             0.220810           0.039363   \n",
       "Complain                   -0.016310            -0.020453          -0.016524   \n",
       "\n",
       "                     NumWebVisitsMonth  AcceptedCmp3  AcceptedCmp4  \\\n",
       "ID                           -0.007446     -0.036040     -0.025387   \n",
       "Year_Birth                    0.121139      0.061774     -0.060510   \n",
       "Kidhome                       0.447846      0.014674     -0.161600   \n",
       "Teenhome                      0.134884     -0.042677      0.038886   \n",
       "Recency                      -0.021445     -0.032991      0.018826   \n",
       "MntWines                     -0.320653      0.062202      0.373286   \n",
       "MntFruits                    -0.418383      0.014727      0.010152   \n",
       "MntMeatProducts              -0.539470      0.018272      0.102912   \n",
       "MntFishProducts              -0.446003      0.000357      0.016843   \n",
       "MntSweetProducts             -0.423294      0.001530      0.028641   \n",
       "MntGoldProds                 -0.250719      0.123091      0.022268   \n",
       "NumDealsPurchases             0.347633     -0.023109      0.015594   \n",
       "NumWebPurchases              -0.055846      0.042176      0.155903   \n",
       "NumCatalogPurchases          -0.520364      0.104730      0.139247   \n",
       "NumStorePurchases            -0.428473     -0.067577      0.179379   \n",
       "NumWebVisitsMonth             1.000000      0.061211     -0.032126   \n",
       "AcceptedCmp3                  0.061211      1.000000     -0.079512   \n",
       "AcceptedCmp4                 -0.032126     -0.079512      1.000000   \n",
       "AcceptedCmp5                 -0.278113      0.080316      0.306526   \n",
       "AcceptedCmp1                 -0.192502      0.094751      0.251300   \n",
       "AcceptedCmp2                 -0.007196      0.072020      0.292210   \n",
       "Response                     -0.003987      0.254258      0.177019   \n",
       "Complain                      0.019769      0.008415     -0.027611   \n",
       "\n",
       "                     AcceptedCmp5  AcceptedCmp1  AcceptedCmp2  Response  \\\n",
       "ID                      -0.007517     -0.021614     -0.015061 -0.021968   \n",
       "Year_Birth               0.007123     -0.005930     -0.006539  0.021325   \n",
       "Kidhome                 -0.205634     -0.172339     -0.081716 -0.080008   \n",
       "Teenhome                -0.191050     -0.140090     -0.015605 -0.154446   \n",
       "Recency                  0.000129     -0.019283     -0.001781 -0.198437   \n",
       "MntWines                 0.472613      0.354133      0.205907  0.247254   \n",
       "MntFruits                0.215833      0.194748     -0.009773  0.125289   \n",
       "MntMeatProducts          0.373769      0.309761      0.043033  0.236335   \n",
       "MntFishProducts          0.199578      0.260762      0.002577  0.111331   \n",
       "MntSweetProducts         0.259590      0.241818      0.009985  0.117372   \n",
       "MntGoldProds             0.181021      0.166396      0.049990  0.139850   \n",
       "NumDealsPurchases       -0.183248     -0.123244     -0.037695  0.002238   \n",
       "NumWebPurchases          0.138684      0.155143      0.034188  0.148730   \n",
       "NumCatalogPurchases      0.322321      0.308097      0.099852  0.220810   \n",
       "NumStorePurchases        0.214790      0.183249      0.085189  0.039363   \n",
       "NumWebVisitsMonth       -0.278113     -0.192502     -0.007196 -0.003987   \n",
       "AcceptedCmp3             0.080316      0.094751      0.072020  0.254258   \n",
       "AcceptedCmp4             0.306526      0.251300      0.292210  0.177019   \n",
       "AcceptedCmp5             1.000000      0.403078      0.221533  0.326634   \n",
       "AcceptedCmp1             0.403078      1.000000      0.175315  0.293982   \n",
       "AcceptedCmp2             0.221533      0.175315      1.000000  0.169293   \n",
       "Response                 0.326634      0.293982      0.169293  1.000000   \n",
       "Complain                -0.009419     -0.025499     -0.011334 -0.001707   \n",
       "\n",
       "                     Complain  \n",
       "ID                   0.033883  \n",
       "Year_Birth          -0.030128  \n",
       "Kidhome              0.040207  \n",
       "Teenhome             0.003138  \n",
       "Recency              0.013231  \n",
       "MntWines            -0.039007  \n",
       "MntFruits           -0.005166  \n",
       "MntMeatProducts     -0.023483  \n",
       "MntFishProducts     -0.020953  \n",
       "MntSweetProducts    -0.022485  \n",
       "MntGoldProds        -0.030861  \n",
       "NumDealsPurchases    0.000420  \n",
       "NumWebPurchases     -0.016310  \n",
       "NumCatalogPurchases -0.020453  \n",
       "NumStorePurchases   -0.016524  \n",
       "NumWebVisitsMonth    0.019769  \n",
       "AcceptedCmp3         0.008415  \n",
       "AcceptedCmp4        -0.027611  \n",
       "AcceptedCmp5        -0.009419  \n",
       "AcceptedCmp1        -0.025499  \n",
       "AcceptedCmp2        -0.011334  \n",
       "Response            -0.001707  \n",
       "Complain             1.000000  "
      ]
     },
     "execution_count": 94,
     "metadata": {},
     "output_type": "execute_result"
    }
   ],
   "source": [
    "df.corr()"
   ]
  },
  {
   "cell_type": "code",
   "execution_count": 4,
   "id": "21f409cd",
   "metadata": {},
   "outputs": [],
   "source": [
    "import pandas as pd"
   ]
  },
  {
   "cell_type": "code",
   "execution_count": 5,
   "id": "2e3634e3",
   "metadata": {},
   "outputs": [],
   "source": [
    " df=pd.read_csv(\"marketing_data.csv\")"
   ]
  },
  {
   "cell_type": "code",
   "execution_count": 6,
   "id": "33b40bb5",
   "metadata": {},
   "outputs": [
    {
     "data": {
      "text/plain": [
       "Index(['ID', 'Year_Birth', 'Education', 'Marital_Status', ' Income ',\n",
       "       'Kidhome', 'Teenhome', 'Dt_Customer', 'Recency', 'MntWines',\n",
       "       'MntFruits', 'MntMeatProducts', 'MntFishProducts', 'MntSweetProducts',\n",
       "       'MntGoldProds', 'NumDealsPurchases', 'NumWebPurchases',\n",
       "       'NumCatalogPurchases', 'NumStorePurchases', 'NumWebVisitsMonth',\n",
       "       'AcceptedCmp3', 'AcceptedCmp4', 'AcceptedCmp5', 'AcceptedCmp1',\n",
       "       'AcceptedCmp2', 'Response', 'Complain', 'Country'],\n",
       "      dtype='object')"
      ]
     },
     "execution_count": 6,
     "metadata": {},
     "output_type": "execute_result"
    }
   ],
   "source": [
    "df.columns"
   ]
  },
  {
   "cell_type": "code",
   "execution_count": 7,
   "id": "6ceb4bee",
   "metadata": {},
   "outputs": [
    {
     "name": "stdout",
     "output_type": "stream",
     "text": [
      "Requirement already satisfied: matplotlib in c:\\users\\hisha\\anaconda3\\kernels\\lib\\site-packages (3.4.3)\n",
      "Requirement already satisfied: pyparsing>=2.2.1 in c:\\users\\hisha\\anaconda3\\kernels\\lib\\site-packages (from matplotlib) (3.0.4)\n",
      "Requirement already satisfied: kiwisolver>=1.0.1 in c:\\users\\hisha\\anaconda3\\kernels\\lib\\site-packages (from matplotlib) (1.3.1)\n",
      "Requirement already satisfied: python-dateutil>=2.7 in c:\\users\\hisha\\anaconda3\\kernels\\lib\\site-packages (from matplotlib) (2.8.2)\n",
      "Requirement already satisfied: cycler>=0.10 in c:\\users\\hisha\\anaconda3\\kernels\\lib\\site-packages (from matplotlib) (0.10.0)\n",
      "Requirement already satisfied: pillow>=6.2.0 in c:\\users\\hisha\\anaconda3\\kernels\\lib\\site-packages (from matplotlib) (8.4.0)\n",
      "Requirement already satisfied: numpy>=1.16 in c:\\users\\hisha\\anaconda3\\kernels\\lib\\site-packages (from matplotlib) (1.20.3)\n",
      "Requirement already satisfied: six in c:\\users\\hisha\\anaconda3\\kernels\\lib\\site-packages (from cycler>=0.10->matplotlib) (1.16.0)\n"
     ]
    }
   ],
   "source": [
    "!pip install matplotlib"
   ]
  },
  {
   "cell_type": "code",
   "execution_count": 8,
   "id": "30aab552",
   "metadata": {},
   "outputs": [],
   "source": [
    "import matplotlib.pyplot as plt"
   ]
  },
  {
   "cell_type": "code",
   "execution_count": 9,
   "id": "8ace3d24",
   "metadata": {},
   "outputs": [
    {
     "data": {
      "image/png": "[encoded data removed]",
      "text/plain": [
       "<Figure size 432x288 with 1 Axes>"
      ]
     },
     "metadata": {
      "needs_background": "light"
     },
     "output_type": "display_data"
    }
   ],
   "source": [
    "plt.scatter(df['MntSweetProducts'],df['NumStorePurchases'])\n",
    "plt.ylabel(\"NumStorePurchases\")\n",
    "plt.xlabel(\"MntSweetProducts\")\n",
    "plt.show()"
   ]
  },
  {
   "cell_type": "code",
   "execution_count": 10,
   "id": "8f69a9de",
   "metadata": {
    "scrolled": true
   },
   "outputs": [
    {
     "data": {
      "text/html": [
       "<div>\n",
       "<style scoped>\n",
       "    .dataframe tbody tr th:only-of-type {\n",
       "        vertical-align: middle;\n",
       "    }\n",
       "\n",
       "    .dataframe tbody tr th {\n",
       "        vertical-align: top;\n",
       "    }\n",
       "\n",
       "    .dataframe thead th {\n",
       "        text-align: right;\n",
       "    }\n",
       "</style>\n",
       "<table border=\"1\" class=\"dataframe\">\n",
       "  <thead>\n",
       "    <tr style=\"text-align: right;\">\n",
       "      <th></th>\n",
       "      <th>MntSweetProducts</th>\n",
       "      <th>NumStorePurchases</th>\n",
       "      <th>MntMeatProducts</th>\n",
       "      <th>NumStorePurchases</th>\n",
       "    </tr>\n",
       "  </thead>\n",
       "  <tbody>\n",
       "    <tr>\n",
       "      <th>MntSweetProducts</th>\n",
       "      <td>1.00</td>\n",
       "      <td>0.45</td>\n",
       "      <td>0.52</td>\n",
       "      <td>0.45</td>\n",
       "    </tr>\n",
       "    <tr>\n",
       "      <th>NumStorePurchases</th>\n",
       "      <td>0.45</td>\n",
       "      <td>1.00</td>\n",
       "      <td>0.48</td>\n",
       "      <td>1.00</td>\n",
       "    </tr>\n",
       "    <tr>\n",
       "      <th>MntMeatProducts</th>\n",
       "      <td>0.52</td>\n",
       "      <td>0.48</td>\n",
       "      <td>1.00</td>\n",
       "      <td>0.48</td>\n",
       "    </tr>\n",
       "    <tr>\n",
       "      <th>NumStorePurchases</th>\n",
       "      <td>0.45</td>\n",
       "      <td>1.00</td>\n",
       "      <td>0.48</td>\n",
       "      <td>1.00</td>\n",
       "    </tr>\n",
       "  </tbody>\n",
       "</table>\n",
       "</div>"
      ],
      "text/plain": [
       "                   MntSweetProducts  NumStorePurchases  MntMeatProducts  \\\n",
       "MntSweetProducts               1.00               0.45             0.52   \n",
       "NumStorePurchases              0.45               1.00             0.48   \n",
       "MntMeatProducts                0.52               0.48             1.00   \n",
       "NumStorePurchases              0.45               1.00             0.48   \n",
       "\n",
       "                   NumStorePurchases  \n",
       "MntSweetProducts                0.45  \n",
       "NumStorePurchases               1.00  \n",
       "MntMeatProducts                 0.48  \n",
       "NumStorePurchases               1.00  "
      ]
     },
     "execution_count": 10,
     "metadata": {},
     "output_type": "execute_result"
    }
   ],
   "source": [
    "cormat=df[['MntSweetProducts','NumStorePurchases','MntMeatProducts','NumStorePurchases']].corr().round(2)\n",
    "cormat"
   ]
  },
  {
   "cell_type": "code",
   "execution_count": 30,
   "id": "57e18879",
   "metadata": {},
   "outputs": [
    {
     "name": "stdout",
     "output_type": "stream",
     "text": [
      "Discret Vaules\n"
     ]
    }
   ],
   "source": [
    "print(\"Discret Vaules\")"
   ]
  },
  {
   "cell_type": "code",
   "execution_count": 11,
   "id": "546269f7",
   "metadata": {},
   "outputs": [
    {
     "name": "stdout",
     "output_type": "stream",
     "text": [
      "Requirement already satisfied: seaborn in c:\\users\\hisha\\anaconda3\\kernels\\lib\\site-packages (0.11.2)\n",
      "Requirement already satisfied: numpy>=1.15 in c:\\users\\hisha\\anaconda3\\kernels\\lib\\site-packages (from seaborn) (1.20.3)\n",
      "Requirement already satisfied: matplotlib>=2.2 in c:\\users\\hisha\\anaconda3\\kernels\\lib\\site-packages (from seaborn) (3.4.3)\n",
      "Requirement already satisfied: pandas>=0.23 in c:\\users\\hisha\\anaconda3\\kernels\\lib\\site-packages (from seaborn) (1.3.4)\n",
      "Requirement already satisfied: scipy>=1.0 in c:\\users\\hisha\\anaconda3\\kernels\\lib\\site-packages (from seaborn) (1.7.1)\n",
      "Requirement already satisfied: pillow>=6.2.0 in c:\\users\\hisha\\anaconda3\\kernels\\lib\\site-packages (from matplotlib>=2.2->seaborn) (8.4.0)\n",
      "Requirement already satisfied: kiwisolver>=1.0.1 in c:\\users\\hisha\\anaconda3\\kernels\\lib\\site-packages (from matplotlib>=2.2->seaborn) (1.3.1)\n",
      "Requirement already satisfied: python-dateutil>=2.7 in c:\\users\\hisha\\anaconda3\\kernels\\lib\\site-packages (from matplotlib>=2.2->seaborn) (2.8.2)\n",
      "Requirement already satisfied: pyparsing>=2.2.1 in c:\\users\\hisha\\anaconda3\\kernels\\lib\\site-packages (from matplotlib>=2.2->seaborn) (3.0.4)\n",
      "Requirement already satisfied: cycler>=0.10 in c:\\users\\hisha\\anaconda3\\kernels\\lib\\site-packages (from matplotlib>=2.2->seaborn) (0.10.0)\n",
      "Requirement already satisfied: six in c:\\users\\hisha\\anaconda3\\kernels\\lib\\site-packages (from cycler>=0.10->matplotlib>=2.2->seaborn) (1.16.0)\n",
      "Requirement already satisfied: pytz>=2017.3 in c:\\users\\hisha\\anaconda3\\kernels\\lib\\site-packages (from pandas>=0.23->seaborn) (2021.3)\n"
     ]
    }
   ],
   "source": [
    "!pip install seaborn"
   ]
  },
  {
   "cell_type": "code",
   "execution_count": 12,
   "id": "0ea3f901",
   "metadata": {},
   "outputs": [],
   "source": [
    "import seaborn as sns\n",
    "import matplotlib.pyplot as plt"
   ]
  },
  {
   "cell_type": "code",
   "execution_count": 13,
   "id": "c85502c4",
   "metadata": {},
   "outputs": [
    {
     "data": {
      "text/plain": [
       "<AxesSubplot:>"
      ]
     },
     "execution_count": 13,
     "metadata": {},
     "output_type": "execute_result"
    },
    {
     "data": {
      "image/png": "[encoded data removed]",
      "text/plain": [
       "<Figure size 432x288 with 2 Axes>"
      ]
     },
     "metadata": {
      "needs_background": "light"
     },
     "output_type": "display_data"
    }
   ],
   "source": [
    "sns.heatmap(cormat, annot=True)"
   ]
  },
  {
   "cell_type": "code",
   "execution_count": 16,
   "id": "5202a24e",
   "metadata": {},
   "outputs": [
    {
     "data": {
      "text/plain": [
       "0       Graduation\n",
       "1       Graduation\n",
       "2       Graduation\n",
       "3       Graduation\n",
       "4       Graduation\n",
       "           ...    \n",
       "2235           PhD\n",
       "2236      2n Cycle\n",
       "2237    Graduation\n",
       "2238    Graduation\n",
       "2239           PhD\n",
       "Name: Education, Length: 2240, dtype: object"
      ]
     },
     "execution_count": 16,
     "metadata": {},
     "output_type": "execute_result"
    }
   ],
   "source": [
    "df[\"Education\"]"
   ]
  },
  {
   "cell_type": "code",
   "execution_count": 17,
   "id": "ce7c85a1",
   "metadata": {},
   "outputs": [
    {
     "data": {
      "text/plain": [
       "0       Divorced\n",
       "1         Single\n",
       "2        Married\n",
       "3       Together\n",
       "4         Single\n",
       "          ...   \n",
       "2235    Divorced\n",
       "2236     Married\n",
       "2237    Divorced\n",
       "2238     Married\n",
       "2239     Married\n",
       "Name: Marital_Status, Length: 2240, dtype: object"
      ]
     },
     "execution_count": 17,
     "metadata": {},
     "output_type": "execute_result"
    }
   ],
   "source": [
    "df[\"Marital_Status\"]"
   ]
  },
  {
   "cell_type": "code",
   "execution_count": 18,
   "id": "a2a29edd",
   "metadata": {},
   "outputs": [
    {
     "data": {
      "text/html": [
       "<div>\n",
       "<style scoped>\n",
       "    .dataframe tbody tr th:only-of-type {\n",
       "        vertical-align: middle;\n",
       "    }\n",
       "\n",
       "    .dataframe tbody tr th {\n",
       "        vertical-align: top;\n",
       "    }\n",
       "\n",
       "    .dataframe thead th {\n",
       "        text-align: right;\n",
       "    }\n",
       "</style>\n",
       "<table border=\"1\" class=\"dataframe\">\n",
       "  <thead>\n",
       "    <tr style=\"text-align: right;\">\n",
       "      <th>Marital_Status</th>\n",
       "      <th>Absurd</th>\n",
       "      <th>Alone</th>\n",
       "      <th>Divorced</th>\n",
       "      <th>Married</th>\n",
       "      <th>Single</th>\n",
       "      <th>Together</th>\n",
       "      <th>Widow</th>\n",
       "      <th>YOLO</th>\n",
       "    </tr>\n",
       "    <tr>\n",
       "      <th>Education</th>\n",
       "      <th></th>\n",
       "      <th></th>\n",
       "      <th></th>\n",
       "      <th></th>\n",
       "      <th></th>\n",
       "      <th></th>\n",
       "      <th></th>\n",
       "      <th></th>\n",
       "    </tr>\n",
       "  </thead>\n",
       "  <tbody>\n",
       "    <tr>\n",
       "      <th>2n Cycle</th>\n",
       "      <td>0</td>\n",
       "      <td>0</td>\n",
       "      <td>23</td>\n",
       "      <td>81</td>\n",
       "      <td>37</td>\n",
       "      <td>57</td>\n",
       "      <td>5</td>\n",
       "      <td>0</td>\n",
       "    </tr>\n",
       "    <tr>\n",
       "      <th>Basic</th>\n",
       "      <td>0</td>\n",
       "      <td>0</td>\n",
       "      <td>1</td>\n",
       "      <td>20</td>\n",
       "      <td>18</td>\n",
       "      <td>14</td>\n",
       "      <td>1</td>\n",
       "      <td>0</td>\n",
       "    </tr>\n",
       "    <tr>\n",
       "      <th>Graduation</th>\n",
       "      <td>1</td>\n",
       "      <td>1</td>\n",
       "      <td>119</td>\n",
       "      <td>433</td>\n",
       "      <td>252</td>\n",
       "      <td>286</td>\n",
       "      <td>35</td>\n",
       "      <td>0</td>\n",
       "    </tr>\n",
       "    <tr>\n",
       "      <th>Master</th>\n",
       "      <td>1</td>\n",
       "      <td>1</td>\n",
       "      <td>37</td>\n",
       "      <td>138</td>\n",
       "      <td>75</td>\n",
       "      <td>106</td>\n",
       "      <td>12</td>\n",
       "      <td>0</td>\n",
       "    </tr>\n",
       "    <tr>\n",
       "      <th>PhD</th>\n",
       "      <td>0</td>\n",
       "      <td>1</td>\n",
       "      <td>52</td>\n",
       "      <td>192</td>\n",
       "      <td>98</td>\n",
       "      <td>117</td>\n",
       "      <td>24</td>\n",
       "      <td>2</td>\n",
       "    </tr>\n",
       "  </tbody>\n",
       "</table>\n",
       "</div>"
      ],
      "text/plain": [
       "Marital_Status  Absurd  Alone  Divorced  Married  Single  Together  Widow  \\\n",
       "Education                                                                   \n",
       "2n Cycle             0      0        23       81      37        57      5   \n",
       "Basic                0      0         1       20      18        14      1   \n",
       "Graduation           1      1       119      433     252       286     35   \n",
       "Master               1      1        37      138      75       106     12   \n",
       "PhD                  0      1        52      192      98       117     24   \n",
       "\n",
       "Marital_Status  YOLO  \n",
       "Education             \n",
       "2n Cycle           0  \n",
       "Basic              0  \n",
       "Graduation         0  \n",
       "Master             0  \n",
       "PhD                2  "
      ]
     },
     "execution_count": 18,
     "metadata": {},
     "output_type": "execute_result"
    }
   ],
   "source": [
    "pd.crosstab(df['Education'], df['Marital_Status'])"
   ]
  },
  {
   "cell_type": "code",
   "execution_count": 19,
   "id": "12c8f513",
   "metadata": {},
   "outputs": [],
   "source": [
    "import statsmodels.api as sm"
   ]
  },
  {
   "cell_type": "code",
   "execution_count": 20,
   "id": "458bedec",
   "metadata": {},
   "outputs": [],
   "source": [
    "tab =pd.crosstab(df['Education'], df['Marital_Status'])"
   ]
  },
  {
   "cell_type": "code",
   "execution_count": 21,
   "id": "93ffb606",
   "metadata": {},
   "outputs": [
    {
     "data": {
      "text/html": [
       "<div>\n",
       "<style scoped>\n",
       "    .dataframe tbody tr th:only-of-type {\n",
       "        vertical-align: middle;\n",
       "    }\n",
       "\n",
       "    .dataframe tbody tr th {\n",
       "        vertical-align: top;\n",
       "    }\n",
       "\n",
       "    .dataframe thead th {\n",
       "        text-align: right;\n",
       "    }\n",
       "</style>\n",
       "<table border=\"1\" class=\"dataframe\">\n",
       "  <thead>\n",
       "    <tr style=\"text-align: right;\">\n",
       "      <th>Marital_Status</th>\n",
       "      <th>Absurd</th>\n",
       "      <th>Alone</th>\n",
       "      <th>Divorced</th>\n",
       "      <th>Married</th>\n",
       "      <th>Single</th>\n",
       "      <th>Together</th>\n",
       "      <th>Widow</th>\n",
       "      <th>YOLO</th>\n",
       "    </tr>\n",
       "    <tr>\n",
       "      <th>Education</th>\n",
       "      <th></th>\n",
       "      <th></th>\n",
       "      <th></th>\n",
       "      <th></th>\n",
       "      <th></th>\n",
       "      <th></th>\n",
       "      <th></th>\n",
       "      <th></th>\n",
       "    </tr>\n",
       "  </thead>\n",
       "  <tbody>\n",
       "    <tr>\n",
       "      <th>2n Cycle</th>\n",
       "      <td>0</td>\n",
       "      <td>0</td>\n",
       "      <td>23</td>\n",
       "      <td>81</td>\n",
       "      <td>37</td>\n",
       "      <td>57</td>\n",
       "      <td>5</td>\n",
       "      <td>0</td>\n",
       "    </tr>\n",
       "    <tr>\n",
       "      <th>Basic</th>\n",
       "      <td>0</td>\n",
       "      <td>0</td>\n",
       "      <td>1</td>\n",
       "      <td>20</td>\n",
       "      <td>18</td>\n",
       "      <td>14</td>\n",
       "      <td>1</td>\n",
       "      <td>0</td>\n",
       "    </tr>\n",
       "    <tr>\n",
       "      <th>Graduation</th>\n",
       "      <td>1</td>\n",
       "      <td>1</td>\n",
       "      <td>119</td>\n",
       "      <td>433</td>\n",
       "      <td>252</td>\n",
       "      <td>286</td>\n",
       "      <td>35</td>\n",
       "      <td>0</td>\n",
       "    </tr>\n",
       "    <tr>\n",
       "      <th>Master</th>\n",
       "      <td>1</td>\n",
       "      <td>1</td>\n",
       "      <td>37</td>\n",
       "      <td>138</td>\n",
       "      <td>75</td>\n",
       "      <td>106</td>\n",
       "      <td>12</td>\n",
       "      <td>0</td>\n",
       "    </tr>\n",
       "    <tr>\n",
       "      <th>PhD</th>\n",
       "      <td>0</td>\n",
       "      <td>1</td>\n",
       "      <td>52</td>\n",
       "      <td>192</td>\n",
       "      <td>98</td>\n",
       "      <td>117</td>\n",
       "      <td>24</td>\n",
       "      <td>2</td>\n",
       "    </tr>\n",
       "  </tbody>\n",
       "</table>\n",
       "</div>"
      ],
      "text/plain": [
       "Marital_Status  Absurd  Alone  Divorced  Married  Single  Together  Widow  \\\n",
       "Education                                                                   \n",
       "2n Cycle             0      0        23       81      37        57      5   \n",
       "Basic                0      0         1       20      18        14      1   \n",
       "Graduation           1      1       119      433     252       286     35   \n",
       "Master               1      1        37      138      75       106     12   \n",
       "PhD                  0      1        52      192      98       117     24   \n",
       "\n",
       "Marital_Status  YOLO  \n",
       "Education             \n",
       "2n Cycle           0  \n",
       "Basic              0  \n",
       "Graduation         0  \n",
       "Master             0  \n",
       "PhD                2  "
      ]
     },
     "execution_count": 21,
     "metadata": {},
     "output_type": "execute_result"
    }
   ],
   "source": [
    "tab"
   ]
  },
  {
   "cell_type": "code",
   "execution_count": 22,
   "id": "cdda838b",
   "metadata": {},
   "outputs": [
    {
     "data": {
      "text/html": [
       "<div>\n",
       "<style scoped>\n",
       "    .dataframe tbody tr th:only-of-type {\n",
       "        vertical-align: middle;\n",
       "    }\n",
       "\n",
       "    .dataframe tbody tr th {\n",
       "        vertical-align: top;\n",
       "    }\n",
       "\n",
       "    .dataframe thead th {\n",
       "        text-align: right;\n",
       "    }\n",
       "</style>\n",
       "<table border=\"1\" class=\"dataframe\">\n",
       "  <thead>\n",
       "    <tr style=\"text-align: right;\">\n",
       "      <th>Marital_Status</th>\n",
       "      <th>Married</th>\n",
       "    </tr>\n",
       "    <tr>\n",
       "      <th>Education</th>\n",
       "      <th></th>\n",
       "    </tr>\n",
       "  </thead>\n",
       "  <tbody>\n",
       "    <tr>\n",
       "      <th>2n Cycle</th>\n",
       "      <td>81</td>\n",
       "    </tr>\n",
       "    <tr>\n",
       "      <th>Basic</th>\n",
       "      <td>20</td>\n",
       "    </tr>\n",
       "    <tr>\n",
       "      <th>Graduation</th>\n",
       "      <td>433</td>\n",
       "    </tr>\n",
       "    <tr>\n",
       "      <th>Master</th>\n",
       "      <td>138</td>\n",
       "    </tr>\n",
       "    <tr>\n",
       "      <th>PhD</th>\n",
       "      <td>192</td>\n",
       "    </tr>\n",
       "  </tbody>\n",
       "</table>\n",
       "</div>"
      ],
      "text/plain": [
       "Marital_Status  Married\n",
       "Education              \n",
       "2n Cycle             81\n",
       "Basic                20\n",
       "Graduation          433\n",
       "Master              138\n",
       "PhD                 192"
      ]
     },
     "execution_count": 22,
     "metadata": {},
     "output_type": "execute_result"
    }
   ],
   "source": [
    "tab.loc[:, ['Married'] ]"
   ]
  },
  {
   "cell_type": "code",
   "execution_count": 23,
   "id": "fb931f7f",
   "metadata": {},
   "outputs": [],
   "source": [
    "table = sm.stats.Table(tab)"
   ]
  },
  {
   "cell_type": "code",
   "execution_count": 25,
   "id": "8417bd7a",
   "metadata": {},
   "outputs": [
    {
     "name": "stdout",
     "output_type": "stream",
     "text": [
      "A 5x8 contingency table with counts:\n",
      "[[  0.5   0.5  23.   81.   37.   57.    5.    0.5]\n",
      " [  0.5   0.5   1.   20.   18.   14.    1.    0.5]\n",
      " [  1.    1.  119.  433.  252.  286.   35.    0.5]\n",
      " [  1.    1.   37.  138.   75.  106.   12.    0.5]\n",
      " [  0.5   1.   52.  192.   98.  117.   24.    2. ]]\n"
     ]
    }
   ],
   "source": [
    "print(table)"
   ]
  },
  {
   "cell_type": "code",
   "execution_count": 26,
   "id": "292b0043",
   "metadata": {},
   "outputs": [
    {
     "data": {
      "text/plain": [
       "array([[  0.5,   0.5,  23. ,  81. ,  37. ,  57. ,   5. ,   0.5],\n",
       "       [  0.5,   0.5,   1. ,  20. ,  18. ,  14. ,   1. ,   0.5],\n",
       "       [  1. ,   1. , 119. , 433. , 252. , 286. ,  35. ,   0.5],\n",
       "       [  1. ,   1. ,  37. , 138. ,  75. , 106. ,  12. ,   0.5],\n",
       "       [  0.5,   1. ,  52. , 192. ,  98. , 117. ,  24. ,   2. ]])"
      ]
     },
     "execution_count": 26,
     "metadata": {},
     "output_type": "execute_result"
    }
   ],
   "source": [
    "table.table"
   ]
  },
  {
   "cell_type": "code",
   "execution_count": 27,
   "id": "be901575",
   "metadata": {},
   "outputs": [
    {
     "data": {
      "text/html": [
       "<div>\n",
       "<style scoped>\n",
       "    .dataframe tbody tr th:only-of-type {\n",
       "        vertical-align: middle;\n",
       "    }\n",
       "\n",
       "    .dataframe tbody tr th {\n",
       "        vertical-align: top;\n",
       "    }\n",
       "\n",
       "    .dataframe thead th {\n",
       "        text-align: right;\n",
       "    }\n",
       "</style>\n",
       "<table border=\"1\" class=\"dataframe\">\n",
       "  <thead>\n",
       "    <tr style=\"text-align: right;\">\n",
       "      <th>Marital_Status</th>\n",
       "      <th>Absurd</th>\n",
       "      <th>Alone</th>\n",
       "      <th>Divorced</th>\n",
       "      <th>Married</th>\n",
       "      <th>Single</th>\n",
       "      <th>Together</th>\n",
       "      <th>Widow</th>\n",
       "      <th>YOLO</th>\n",
       "    </tr>\n",
       "    <tr>\n",
       "      <th>Education</th>\n",
       "      <th></th>\n",
       "      <th></th>\n",
       "      <th></th>\n",
       "      <th></th>\n",
       "      <th></th>\n",
       "      <th></th>\n",
       "      <th></th>\n",
       "      <th></th>\n",
       "    </tr>\n",
       "  </thead>\n",
       "  <tbody>\n",
       "    <tr>\n",
       "      <th>2n Cycle</th>\n",
       "      <td>0.318891</td>\n",
       "      <td>0.364446</td>\n",
       "      <td>21.137893</td>\n",
       "      <td>78.720428</td>\n",
       "      <td>43.733571</td>\n",
       "      <td>52.844732</td>\n",
       "      <td>7.015594</td>\n",
       "      <td>0.364446</td>\n",
       "    </tr>\n",
       "    <tr>\n",
       "      <th>Basic</th>\n",
       "      <td>0.086545</td>\n",
       "      <td>0.098908</td>\n",
       "      <td>5.736690</td>\n",
       "      <td>21.364224</td>\n",
       "      <td>11.869013</td>\n",
       "      <td>14.341724</td>\n",
       "      <td>1.903988</td>\n",
       "      <td>0.098908</td>\n",
       "    </tr>\n",
       "    <tr>\n",
       "      <th>Graduation</th>\n",
       "      <td>1.758187</td>\n",
       "      <td>2.009356</td>\n",
       "      <td>116.542660</td>\n",
       "      <td>434.020940</td>\n",
       "      <td>241.122744</td>\n",
       "      <td>291.356650</td>\n",
       "      <td>38.680107</td>\n",
       "      <td>2.009356</td>\n",
       "    </tr>\n",
       "    <tr>\n",
       "      <th>Master</th>\n",
       "      <td>0.577746</td>\n",
       "      <td>0.660281</td>\n",
       "      <td>38.296280</td>\n",
       "      <td>142.620628</td>\n",
       "      <td>79.233682</td>\n",
       "      <td>95.740699</td>\n",
       "      <td>12.710403</td>\n",
       "      <td>0.660281</td>\n",
       "    </tr>\n",
       "    <tr>\n",
       "      <th>PhD</th>\n",
       "      <td>0.758632</td>\n",
       "      <td>0.867008</td>\n",
       "      <td>50.286478</td>\n",
       "      <td>187.273780</td>\n",
       "      <td>104.040989</td>\n",
       "      <td>125.716195</td>\n",
       "      <td>16.689909</td>\n",
       "      <td>0.867008</td>\n",
       "    </tr>\n",
       "  </tbody>\n",
       "</table>\n",
       "</div>"
      ],
      "text/plain": [
       "Marital_Status    Absurd     Alone    Divorced     Married      Single  \\\n",
       "Education                                                                \n",
       "2n Cycle        0.318891  0.364446   21.137893   78.720428   43.733571   \n",
       "Basic           0.086545  0.098908    5.736690   21.364224   11.869013   \n",
       "Graduation      1.758187  2.009356  116.542660  434.020940  241.122744   \n",
       "Master          0.577746  0.660281   38.296280  142.620628   79.233682   \n",
       "PhD             0.758632  0.867008   50.286478  187.273780  104.040989   \n",
       "\n",
       "Marital_Status    Together      Widow      YOLO  \n",
       "Education                                        \n",
       "2n Cycle         52.844732   7.015594  0.364446  \n",
       "Basic            14.341724   1.903988  0.098908  \n",
       "Graduation      291.356650  38.680107  2.009356  \n",
       "Master           95.740699  12.710403  0.660281  \n",
       "PhD             125.716195  16.689909  0.867008  "
      ]
     },
     "execution_count": 27,
     "metadata": {},
     "output_type": "execute_result"
    }
   ],
   "source": [
    "table.fittedvalues"
   ]
  },
  {
   "cell_type": "code",
   "execution_count": null,
   "id": "deefdf4b",
   "metadata": {},
   "outputs": [],
   "source": []
  }
 ],
 "metadata": {
  "kernelspec": {
   "display_name": "Python 3 (ipykernel)",
   "language": "python",
   "name": "python3"
  },
  "language_info": {
   "codemirror_mode": {
    "name": "ipython",
    "version": 3
   },
   "file_extension": ".py",
   "mimetype": "text/x-python",
   "name": "python",
   "nbconvert_exporter": "python",
   "pygments_lexer": "ipython3",
   "version": "3.9.7"
  }
 },
 "nbformat": 4,
 "nbformat_minor": 5
}
